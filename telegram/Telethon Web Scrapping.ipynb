{
 "cells": [
  {
   "cell_type": "code",
   "execution_count": 1,
   "metadata": {},
   "outputs": [
    {
     "name": "stdout",
     "output_type": "stream",
     "text": [
      "Signed in successfully as Randy\n",
      "Channel: -1001231378357:Singapore Internship Opportunities - sgInternship\n",
      "Group: -662713844:Web Scrape Test\n",
      "Group: -799604878:IS424 Data Mining Group\n",
      "Group: -694436422:IS212 SPM Group\n",
      "Group: -1001167169561:Singapore Build-to-Order Discussion - sgBTO\n",
      "Channel: -1001167169561:Singapore Build-to-Order Discussion - sgBTO\n",
      "Channel: -1001320267392:Stacked Homes\n",
      "Group: -693190809:DM Web Scrapping\n",
      "Channel: -1001462718892:HDB\n",
      "Group: -621158706:social analytics\n",
      "Group: -441630961:Vicky and Randy's Impt Stuff\n",
      "Group: -1001334008033:SISters(2020)\n",
      "Channel: -1001334008033:SISters(2020)\n",
      "Group: -400775288:3 clowns\n",
      "Group: -718209105:IS212 G4 2022\n",
      "Group: -1001324224304:Digitalisation and Cloud Solutions Track\n",
      "Channel: -1001324224304:Digitalisation and Cloud Solutions Track\n",
      "Group: -757622624:COR3301 Ethics Group\n",
      "Group: -1001699832579:IS424 AY22/23 T1 DM G1\n",
      "Channel: -1001699832579:IS424 AY22/23 T1 DM G1\n",
      "Channel: -1001215498593:Homeowners SG 🏠\n",
      "Group: -573139439:XD\n",
      "Group: -1001587039498:NP Virtual Tutoring Programme - Sep Batch\n",
      "Channel: -1001587039498:NP Virtual Tutoring Programme - Sep Batch\n",
      "Group: -570307970:IDP G2\n",
      "Group: -490250666:HANA 4 TOXIC\n",
      "Group: -1001701167395:IS214-E4G3-Tue-0815hrs\n",
      "Channel: -1001701167395:IS214-E4G3-Tue-0815hrs\n",
      "Group: -1001623537697:COR 1301 LTB G3\n",
      "Channel: -1001623537697:COR 1301 LTB G3\n",
      "Group: -419190153:TLL KOOL KLIQUE\n",
      "Group: -535826162:G2: What is this thing called Science?\n",
      "Group: -1001360759778:Asgard 5‼️\n",
      "Channel: -1001360759778:Asgard 5‼️\n",
      "Group: -632193548:IS215 G6T8\n",
      "Group: -680734543:DBTT-2022-G6\n",
      "Group: -1001755906710:IS213 ESD G4\n",
      "Channel: -1001755906710:IS213 ESD G4\n",
      "Group: -663631388:ESD G4-Hokkien Mee\n",
      "Group: -774550293:LTB Grp 3\n",
      "Group: -688872185:Gardener Emotional Trauma\n",
      "Group: -631743697:TLL robertson quay action\n",
      "Group: -523964837:IS216 WAD 🇰🇷 G10 Sib-Gwang-Gwang\n",
      "Group: -1001545169405:G1 IS217 AF\n",
      "Channel: -1001545169405:G1 IS217 AF\n",
      "Group: -521273779:IS210 G10 BPAS\n",
      "Group: -527587527:IDP PROJ GROUP 4! 🔥\n",
      "Group: -535211436:is 210 bpas grp 7\n",
      "Group: -580267308:idp g2 teams 1,4,5,6\n",
      "Group: -552490358:SPREAD DEM BUTTAH\n",
      "Group: -1001259440343:🌼 Hana 4 (RUN 2) 🌼\n",
      "Channel: -1001259440343:🌼 Hana 4 (RUN 2) 🌼\n",
      "Group: -481489187:G7: Global and Local\n",
      "Group: -531571188:G1 IS217 AF\n",
      "Group: -1001497018316:Econs and Society G4\n",
      "Channel: -1001497018316:Econs and Society G4\n",
      "Group: -492450016:RAFTTT\n",
      "Group: -1001489395710:Ranch & Mazes\n",
      "Channel: -1001489395710:Ranch & Mazes\n",
      "Group: -419154162:cracKheAd eneRgY\n",
      "Group: -453563181:CSP 2021\n",
      "Group: -463904638:BQ | young at heart\n",
      "Group: -513764723:data mgmt IS112 thur 0815 korean guy\n",
      "Group: -334695420:Data Management G12\n",
      "Group: -567707447:WR Window group\n",
      "Group: -574533783:Team IS\n",
      "Group: -484107391:booboi..\n",
      "Group: -497354678:Chloe’s birthday!!\n",
      "Group: -447844401:let me try\n",
      "Group: -467652349:G12 statX\n",
      "Group: -491601662:BGS GROUP 3 ✨\n",
      "Group: -355245602:CT 2020/21 - G6\n",
      "Group: -445732957:IS110 G4 Team 3\n",
      "Group: -1001429473058:IS111-G2-FinalExam\n",
      "Channel: -1001429473058:IS111-G2-FinalExam\n",
      "Group: -1001179280023:IS111-AY2020-T1-G2\n",
      "Channel: -1001179280023:IS111-AY2020-T1-G2\n",
      "Group: -1001440859084:BGS G4\n",
      "Channel: -1001440859084:BGS G4\n",
      "Group: -433229215:Stat X G12 Alpha\n",
      "Group: -365198836:IS110 G4\n",
      "Group: -484930748:send pigu\n",
      "Group: -452828225:Asgard 6‼️\n",
      "Group: -277179055:GAMEEEE\n",
      "Group: -365531754:werewolf\n",
      "Group: -204814396:UP DOWN LEFT RIGHT ?\n"
     ]
    },
    {
     "data": {
      "text/plain": [
       "<coroutine object AuthMethods.log_out at 0x000001EA988ABD80>"
      ]
     },
     "execution_count": 1,
     "metadata": {},
     "output_type": "execute_result"
    }
   ],
   "source": [
    "from telethon.sync import TelegramClient\n",
    "\n",
    "#Listing all group ID\n",
    "name = 'anon' \n",
    "api_id = 15623085 \n",
    "api_hash = 'a57a2e8ffa94759fc13f68cd0e4cc1d1' \n",
    "\n",
    "async with TelegramClient(name, api_id, api_hash) as client:\n",
    "    async for dialog in client.iter_dialogs():\n",
    "        if dialog.is_group:\n",
    "            print(f'Group: {dialog.id}:{dialog.title}')\n",
    "        \n",
    "        if dialog.is_channel:\n",
    "            print(f'Channel: {dialog.id}:{dialog.title}')\n",
    "            \n",
    "client.log_out()"
   ]
  },
  {
   "cell_type": "code",
   "execution_count": 3,
   "metadata": {},
   "outputs": [
    {
     "data": {
      "text/plain": [
       "<coroutine object AuthMethods.log_out at 0x000001EA969DFDF0>"
      ]
     },
     "execution_count": 3,
     "metadata": {},
     "output_type": "execute_result"
    }
   ],
   "source": [
    "import pandas as pd\n",
    "\n",
    "name = 'anon' \n",
    "api_id = 15623085 \n",
    "api_hash = 'a57a2e8ffa94759fc13f68cd0e4cc1d1' \n",
    "\n",
    "#Test Group ID: 662713844\n",
    "#BTO Mega Channel ID: 1001167169561\n",
    "#Homeowners SG Channel ID: 1001215498593\n",
    "#Stacked Homes Channel: 1001320267392\n",
    "\n",
    "chat = 1001320267392\n",
    "\n",
    "data = [] # stores all our data in the format SENDER_ID, MSG\n",
    "\n",
    "async with TelegramClient(name, api_id, api_hash) as client:\n",
    "    async for message in client.iter_messages(chat, limit=100):\n",
    "        data.append([f'{message.date.day}/{message.date.month}/{message.date.year}', message.text])\n",
    "        \n",
    "df = pd.DataFrame(data, columns=['DATE', 'MESSAGE']) # creates a new dataframe\n",
    "\n",
    "df.to_csv('tg_messages.csv', encoding='utf-8-sig') # save to a CSV file\n",
    "\n",
    "client.log_out()"
   ]
  }
 ],
 "metadata": {
  "kernelspec": {
   "display_name": "Python 3.10.1 64-bit",
   "language": "python",
   "name": "python3"
  },
  "language_info": {
   "codemirror_mode": {
    "name": "ipython",
    "version": 3
   },
   "file_extension": ".py",
   "mimetype": "text/x-python",
   "name": "python",
   "nbconvert_exporter": "python",
   "pygments_lexer": "ipython3",
   "version": "3.10.1"
  },
  "vscode": {
   "interpreter": {
    "hash": "aa417f14ae48157c11723b6a8eeedd9f16e2b828927b030ca21ca6fc7c1dd5fc"
   }
  }
 },
 "nbformat": 4,
 "nbformat_minor": 4
}
