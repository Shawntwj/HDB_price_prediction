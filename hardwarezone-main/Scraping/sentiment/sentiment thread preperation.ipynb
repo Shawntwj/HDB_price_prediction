{
 "cells": [
  {
   "cell_type": "markdown",
   "id": "e1eb882f",
   "metadata": {},
   "source": [
    "### add in forum name, thread title and date"
   ]
  },
  {
   "cell_type": "code",
   "execution_count": null,
   "id": "9d86a45e",
   "metadata": {},
   "outputs": [],
   "source": [
    "from selenium import webdriver\n",
    "from selenium.webdriver.common.keys import Keys\n",
    "from selenium.webdriver.common.by import By\n",
    "import csv\n",
    "import time\n",
    "import os\n",
    "import requests\n",
    "from bs4 import BeautifulSoup\n",
    "from datetime import datetime, date, timedelta\n",
    "\n",
    "PATH = \"C:\\Program Files (x86)\\chromedriver.exe\"\n",
    "driver = webdriver.Chrome(PATH)\n",
    "\n",
    "dir_path = os.path.dirname(os.path.realpath(__file__))\n",
    "new_save_thread_path = dir_path + \"/\" +\"updated_sentiment_link.csv\"\n",
    "csvFile = open( new_save_thread_path, \"a\", newline='', encoding=\"utf-8-sig\")\n",
    "csvWriter = csv.writer(csvFile)\n",
    "\n",
    "dir_path = os.path.dirname(os.path.realpath(__file__))\n",
    "thread_csv_file = dir_path + \"/\" + \"sentiment_links.csv\"\n",
    "# forumnname threadtitle threadlink town date\n",
    "\n",
    "with open(thread_csv_file, encoding=\"utf8\") as file_handler:\n",
    "    for row in csv.reader(file_handler):\n",
    "        thread_link = row[0]\n",
    "        thread_link = thread_link.replace('\\ufeff',\"\")\n",
    "        town_name = row[1]\n",
    "        \n",
    "        driver.get(thread_link)\n",
    "        time.sleep(3)\n",
    "        \n",
    "        forum_list = driver.find_elements(\"xpath\",\"//ul[contains(@class,'p-breadcrumb')]/li\")\n",
    "        forum_name = forum_list[-1].text        \n",
    "        title_name = driver.find_element(\"xpath\",\"//h1[contains(@class,'p-title-value')]\").text\n",
    "        date = driver.find_element(\"xpath\", \"//time[contains(@class,'u-dt')]\").text\n",
    "        \n",
    "\n",
    "        print(forum_name)\n",
    "        print(title_name)\n",
    "        print(thread_link)\n",
    "        print(town_name)\n",
    "        print(date)\n",
    "        print()\n",
    "        \n",
    "        csvWriter.writerow((forum_name,title_name,thread_link,town_name,date))"
   ]
  },
  {
   "cell_type": "markdown",
   "id": "72b9973f",
   "metadata": {},
   "source": [
    "### remove duplicates "
   ]
  },
  {
   "cell_type": "code",
   "execution_count": null,
   "id": "cc1229e8",
   "metadata": {},
   "outputs": [],
   "source": [
    "csv = pd.read_csv(\"updated_sentiment_link.csv\",names=[\"forum\",\"title\",\"link\",\"town\",\"date\"])\n",
    "csv\n",
    "\n",
    "for i, row in csv.iterrows():\n",
    "    if \"page\" in row['link'].split(\"/\")[-1]:\n",
    "        csv.at[i,\"newlink\"] = \"/\".join(row[\"link\"].split(\"/\")[0:-1])\n",
    "    else:\n",
    "        csv.at[i,\"newlink\"] = row[\"link\"]\n",
    "        \n",
    "new_nodup = csv.drop_duplicates(subset=['newlink'], keep=False)\n",
    "new_nodup.to_csv(\"updated_sentiment_link_no_dup.csv\",index=False)"
   ]
  }
 ],
 "metadata": {
  "kernelspec": {
   "display_name": "Python 3",
   "language": "python",
   "name": "python3"
  },
  "language_info": {
   "codemirror_mode": {
    "name": "ipython",
    "version": 3
   },
   "file_extension": ".py",
   "mimetype": "text/x-python",
   "name": "python",
   "nbconvert_exporter": "python",
   "pygments_lexer": "ipython3",
   "version": "3.8.8"
  }
 },
 "nbformat": 4,
 "nbformat_minor": 5
}
