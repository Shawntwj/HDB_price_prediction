{
 "cells": [
  {
   "cell_type": "code",
   "execution_count": 25,
   "id": "da877df8",
   "metadata": {},
   "outputs": [],
   "source": [
    "import pandas as pd \n",
    "\n",
    "csv = pd.read_csv(\"updated_sentiment_link.csv\",names=[\"forum\",\"title\",\"link\",\"town\",\"date\"])\n",
    "csv\n",
    "\n",
    "for i, row in csv.iterrows():\n",
    "    if \"page\" in row['link'].split(\"/\")[-1]:\n",
    "        csv.at[i,\"newlink\"] = \"/\".join(row[\"link\"].split(\"/\")[0:-1])\n",
    "    else:\n",
    "        csv.at[i,\"newlink\"] = row[\"link\"]\n",
    "        \n",
    "new_nodup = csv.drop_duplicates(subset=['newlink'], keep=False)\n",
    "new_nodup.to_csv(\"updated_sentiment_link_no_dup.csv\",index=False)\n"
   ]
  }
 ],
 "metadata": {
  "kernelspec": {
   "display_name": "Python 3 (ipykernel)",
   "language": "python",
   "name": "python3"
  },
  "language_info": {
   "codemirror_mode": {
    "name": "ipython",
    "version": 3
   },
   "file_extension": ".py",
   "mimetype": "text/x-python",
   "name": "python",
   "nbconvert_exporter": "python",
   "pygments_lexer": "ipython3",
   "version": "3.10.6"
  }
 },
 "nbformat": 4,
 "nbformat_minor": 5
}
