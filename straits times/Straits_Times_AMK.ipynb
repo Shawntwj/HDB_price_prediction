{
 "cells": [
  {
   "cell_type": "markdown",
   "metadata": {
    "id": "124bab15"
   },
   "source": [
    "## Scraping module\n",
    "Scraping of straits times news article by tag (food-prices) <br>\n",
    "Hard-coded a bit"
   ]
  },
  {
   "cell_type": "markdown",
   "metadata": {
    "id": "dcdd196d"
   },
   "source": [
    "### Imports"
   ]
  },
  {
   "cell_type": "code",
   "execution_count": 1,
   "metadata": {
    "id": "ca93f801"
   },
   "outputs": [],
   "source": [
    "#!pip install nltk\n",
    "#import nltk\n",
    "#nltk.download('punkt')"
   ]
  },
  {
   "cell_type": "code",
   "execution_count": 2,
   "metadata": {
    "id": "36c70b1a"
   },
   "outputs": [],
   "source": [
    "#!pip install newspaper3k\n",
    "#!pip install selenium\n",
    "#!pip install webdriver-manager"
   ]
  },
  {
   "cell_type": "code",
   "execution_count": 3,
   "metadata": {
    "id": "de9298a7"
   },
   "outputs": [],
   "source": [
    "from selenium import webdriver\n",
    "from selenium.webdriver.support.ui import WebDriverWait\n",
    "from selenium.webdriver.common.by import By\n",
    "from selenium.webdriver.support import expected_conditions as EC\n",
    "import time\n",
    "\n",
    "from newspaper import Article\n",
    "import pandas as pd\n",
    "import datetime"
   ]
  },
  {
   "cell_type": "code",
   "execution_count": 4,
   "metadata": {},
   "outputs": [],
   "source": [
    "from webdriver_manager.chrome import ChromeDriverManager"
   ]
  },
  {
   "cell_type": "code",
   "execution_count": 5,
   "metadata": {},
   "outputs": [],
   "source": [
    "from selenium.webdriver.common.by import By"
   ]
  },
  {
   "cell_type": "markdown",
   "metadata": {
    "id": "97796fe2"
   },
   "source": [
    "### Newspaper Article Summariser"
   ]
  },
  {
   "cell_type": "code",
   "execution_count": 6,
   "metadata": {
    "id": "5ac9cb9b",
    "scrolled": true
   },
   "outputs": [],
   "source": [
    "def getSummary(url):\n",
    "    article = Article(url)\n",
    "    article.download()\n",
    "    article.parse()\n",
    "    article.nlp()\n",
    "    full_text = article.text\n",
    "    location = full_text[0:full_text.find(\"-\")]\n",
    "    return article.summary, article.keywords, article.publish_date, location"
   ]
  },
  {
   "cell_type": "markdown",
   "metadata": {
    "id": "b1bec0c0"
   },
   "source": [
    "### StraitsTimes Scraper"
   ]
  },
  {
   "cell_type": "code",
   "execution_count": 7,
   "metadata": {
    "colab": {
     "base_uri": "https://localhost:8080/",
     "height": 487
    },
    "id": "d6029804",
    "outputId": "23e66315-061b-471c-ab8a-a1bfae7adb8b"
   },
   "outputs": [
    {
     "name": "stderr",
     "output_type": "stream",
     "text": [
      "[WDM] - Downloading: 100%|████████████████████████████████████████████████████████| 6.21M/6.21M [00:00<00:00, 24.7MB/s]\n",
      "C:\\Users\\jonat\\Anaconda3\\lib\\site-packages\\ipykernel_launcher.py:3: DeprecationWarning: executable_path has been deprecated, please pass in a Service object\n",
      "  This is separate from the ipykernel package so we can avoid doing imports until\n"
     ]
    }
   ],
   "source": [
    "# change to ur own directory!\n",
    "#driver = webdriver.Chrome(r\"C:/Users/jonat/chromedriver.exe\")\n",
    "driver = webdriver.Chrome(ChromeDriverManager().install())\n",
    "\n",
    "def getNews():\n",
    "    output = []\n",
    "    \n",
    "    # get news title in a page - need a for loop to get all the pages!\n",
    "    all_news_per_page=WebDriverWait(driver,20).until(EC.visibility_of_all_elements_located((By.CLASS_NAME,\"views-row\")))\n",
    "    \n",
    "    # get news url (i.e. news source) & news summary & keywords using the summariser module\n",
    "    for i in range(len(all_news_per_page)-1):\n",
    "        news_details = []\n",
    "        try: \n",
    "            xpath = f'//*[@id=\"content\"]/section/div[4]/div/div/div/div/div/article/div/div/div/div[1]/div/div/div/div[{i+1}]/div/div/a'        \n",
    "            url = all_news_per_page[i].find_element_by_xpath(xpath).get_attribute('href')\n",
    "            summary = getSummary(url)\n",
    "            date = summary[2].strftime('%d/%m/%Y')[3:]\n",
    "            news_details.append(date)\n",
    "            news_details.append(summary[3])\n",
    "            news_details.append(all_news_per_page[i].text)\n",
    "            news_details.append(url)\n",
    "            news_details.append(summary[0])\n",
    "            news_details.append(\", \".join(summary[1]))\n",
    "            output.append(news_details)\n",
    "        except: \n",
    "            continue\n",
    "    return output"
   ]
  },
  {
   "cell_type": "code",
   "execution_count": null,
   "metadata": {},
   "outputs": [],
   "source": []
  },
  {
   "cell_type": "code",
   "execution_count": 8,
   "metadata": {
    "id": "d4b5d343"
   },
   "outputs": [
    {
     "name": "stdout",
     "output_type": "stream",
     "text": [
      "0\n"
     ]
    },
    {
     "name": "stderr",
     "output_type": "stream",
     "text": [
      "C:\\Users\\jonat\\Anaconda3\\lib\\site-packages\\ipykernel_launcher.py:6: DeprecationWarning: find_elements_by_* commands are deprecated. Please use find_elements() instead\n",
      "  \n",
      "C:\\Users\\jonat\\Anaconda3\\lib\\site-packages\\ipykernel_launcher.py:8: DeprecationWarning: find_elements_by_* commands are deprecated. Please use find_elements() instead\n",
      "  \n"
     ]
    },
    {
     "ename": "TimeoutException",
     "evalue": "Message: \n",
     "output_type": "error",
     "traceback": [
      "\u001b[1;31m---------------------------------------------------------------------------\u001b[0m",
      "\u001b[1;31mTimeoutException\u001b[0m                          Traceback (most recent call last)",
      "\u001b[1;32m<ipython-input-8-ad52aaec4245>\u001b[0m in \u001b[0;36m<module>\u001b[1;34m\u001b[0m\n\u001b[0;32m     45\u001b[0m     \u001b[0mprint\u001b[0m\u001b[1;33m(\u001b[0m\u001b[0mi\u001b[0m\u001b[1;33m)\u001b[0m\u001b[1;33m\u001b[0m\u001b[1;33m\u001b[0m\u001b[0m\n\u001b[0;32m     46\u001b[0m     \u001b[0murl\u001b[0m \u001b[1;33m=\u001b[0m \u001b[1;34mf\"https://www.straitstimes.com/tags/Bukit-Merah?page={i}\"\u001b[0m\u001b[1;33m\u001b[0m\u001b[1;33m\u001b[0m\u001b[0m\n\u001b[1;32m---> 47\u001b[1;33m     \u001b[0moutput\u001b[0m\u001b[1;33m.\u001b[0m\u001b[0mextend\u001b[0m\u001b[1;33m(\u001b[0m\u001b[0mgetStraitsTimesNews\u001b[0m\u001b[1;33m(\u001b[0m\u001b[0murl\u001b[0m\u001b[1;33m)\u001b[0m\u001b[1;33m)\u001b[0m\u001b[1;33m\u001b[0m\u001b[1;33m\u001b[0m\u001b[0m\n\u001b[0m\u001b[0;32m     48\u001b[0m \u001b[1;31m#     print(output)\u001b[0m\u001b[1;33m\u001b[0m\u001b[1;33m\u001b[0m\u001b[1;33m\u001b[0m\u001b[0m\n\u001b[0;32m     49\u001b[0m \u001b[1;33m\u001b[0m\u001b[0m\n",
      "\u001b[1;32m<ipython-input-8-ad52aaec4245>\u001b[0m in \u001b[0;36mgetStraitsTimesNews\u001b[1;34m(base_url)\u001b[0m\n\u001b[0;32m     18\u001b[0m \u001b[1;33m\u001b[0m\u001b[0m\n\u001b[0;32m     19\u001b[0m     \u001b[1;31m# get news on page\u001b[0m\u001b[1;33m\u001b[0m\u001b[1;33m\u001b[0m\u001b[1;33m\u001b[0m\u001b[0m\n\u001b[1;32m---> 20\u001b[1;33m     \u001b[0moutput\u001b[0m \u001b[1;33m=\u001b[0m \u001b[0mgetNews\u001b[0m\u001b[1;33m(\u001b[0m\u001b[1;33m)\u001b[0m\u001b[1;33m\u001b[0m\u001b[1;33m\u001b[0m\u001b[0m\n\u001b[0m\u001b[0;32m     21\u001b[0m \u001b[1;33m\u001b[0m\u001b[0m\n\u001b[0;32m     22\u001b[0m     \u001b[1;31m# check for next page\u001b[0m\u001b[1;33m\u001b[0m\u001b[1;33m\u001b[0m\u001b[1;33m\u001b[0m\u001b[0m\n",
      "\u001b[1;32m<ipython-input-7-a5d64237b3b0>\u001b[0m in \u001b[0;36mgetNews\u001b[1;34m()\u001b[0m\n\u001b[0;32m      7\u001b[0m \u001b[1;33m\u001b[0m\u001b[0m\n\u001b[0;32m      8\u001b[0m     \u001b[1;31m# get news title in a page - need a for loop to get all the pages!\u001b[0m\u001b[1;33m\u001b[0m\u001b[1;33m\u001b[0m\u001b[1;33m\u001b[0m\u001b[0m\n\u001b[1;32m----> 9\u001b[1;33m     \u001b[0mall_news_per_page\u001b[0m\u001b[1;33m=\u001b[0m\u001b[0mWebDriverWait\u001b[0m\u001b[1;33m(\u001b[0m\u001b[0mdriver\u001b[0m\u001b[1;33m,\u001b[0m\u001b[1;36m20\u001b[0m\u001b[1;33m)\u001b[0m\u001b[1;33m.\u001b[0m\u001b[0muntil\u001b[0m\u001b[1;33m(\u001b[0m\u001b[0mEC\u001b[0m\u001b[1;33m.\u001b[0m\u001b[0mvisibility_of_all_elements_located\u001b[0m\u001b[1;33m(\u001b[0m\u001b[1;33m(\u001b[0m\u001b[0mBy\u001b[0m\u001b[1;33m.\u001b[0m\u001b[0mCLASS_NAME\u001b[0m\u001b[1;33m,\u001b[0m\u001b[1;34m\"views-row\"\u001b[0m\u001b[1;33m)\u001b[0m\u001b[1;33m)\u001b[0m\u001b[1;33m)\u001b[0m\u001b[1;33m\u001b[0m\u001b[1;33m\u001b[0m\u001b[0m\n\u001b[0m\u001b[0;32m     10\u001b[0m \u001b[1;33m\u001b[0m\u001b[0m\n\u001b[0;32m     11\u001b[0m     \u001b[1;31m# get news url (i.e. news source) & news summary & keywords using the summariser module\u001b[0m\u001b[1;33m\u001b[0m\u001b[1;33m\u001b[0m\u001b[1;33m\u001b[0m\u001b[0m\n",
      "\u001b[1;32m~\\Anaconda3\\lib\\site-packages\\selenium\\webdriver\\support\\wait.py\u001b[0m in \u001b[0;36muntil\u001b[1;34m(self, method, message)\u001b[0m\n\u001b[0;32m     87\u001b[0m             \u001b[1;32mif\u001b[0m \u001b[0mtime\u001b[0m\u001b[1;33m.\u001b[0m\u001b[0mtime\u001b[0m\u001b[1;33m(\u001b[0m\u001b[1;33m)\u001b[0m \u001b[1;33m>\u001b[0m \u001b[0mend_time\u001b[0m\u001b[1;33m:\u001b[0m\u001b[1;33m\u001b[0m\u001b[1;33m\u001b[0m\u001b[0m\n\u001b[0;32m     88\u001b[0m                 \u001b[1;32mbreak\u001b[0m\u001b[1;33m\u001b[0m\u001b[1;33m\u001b[0m\u001b[0m\n\u001b[1;32m---> 89\u001b[1;33m         \u001b[1;32mraise\u001b[0m \u001b[0mTimeoutException\u001b[0m\u001b[1;33m(\u001b[0m\u001b[0mmessage\u001b[0m\u001b[1;33m,\u001b[0m \u001b[0mscreen\u001b[0m\u001b[1;33m,\u001b[0m \u001b[0mstacktrace\u001b[0m\u001b[1;33m)\u001b[0m\u001b[1;33m\u001b[0m\u001b[1;33m\u001b[0m\u001b[0m\n\u001b[0m\u001b[0;32m     90\u001b[0m \u001b[1;33m\u001b[0m\u001b[0m\n\u001b[0;32m     91\u001b[0m     \u001b[1;32mdef\u001b[0m \u001b[0muntil_not\u001b[0m\u001b[1;33m(\u001b[0m\u001b[0mself\u001b[0m\u001b[1;33m,\u001b[0m \u001b[0mmethod\u001b[0m\u001b[1;33m,\u001b[0m \u001b[0mmessage\u001b[0m\u001b[1;33m=\u001b[0m\u001b[1;34m''\u001b[0m\u001b[1;33m)\u001b[0m\u001b[1;33m:\u001b[0m\u001b[1;33m\u001b[0m\u001b[1;33m\u001b[0m\u001b[0m\n",
      "\u001b[1;31mTimeoutException\u001b[0m: Message: \n"
     ]
    }
   ],
   "source": [
    "def getStraitsTimesNews(base_url):\n",
    "    driver.get(base_url)\n",
    "\n",
    "    # close ad (if any)\n",
    "    try:\n",
    "        iframe=driver.find_elements_by_tag_name(\"iframe\")[3]\n",
    "        driver.switch_to.frame(iframe)\n",
    "        driver.find_elements_by_tag_name(\"iframe\")\n",
    "        ad = driver.switch_to.frame(0)\n",
    "        driver.find_element_by_id('pclose-btn').click()\n",
    "        driver.switch_to.default_content()\n",
    "    except:\n",
    "        driver.switch_to.default_content()\n",
    "    \n",
    "    # filter the search result by date by xpath accordingly\n",
    "    # within 24 hours, within one week, within 30 days, within a year, within three years\n",
    "#     filter_by_date = WebDriverWait(driver,20).until(EC.visibility_of_all_elements_located((By.XPATH,\"//*[contains(text(), 'within three years')]\")))[0].click()\n",
    "\n",
    "    # get news on page\n",
    "    output = getNews()\n",
    "    \n",
    "    # check for next page\n",
    "#     nextpage = WebDriverWait(driver,20).until(EC.visibility_of_all_elements_located((By.XPATH,'//*[@id=\"content\"]/section/div[4]/div/div/div/div/div/article/div/div/div/div[1]/div/div/nav/ul/li[2]/a')))[0]\n",
    "#     if (nextpage.get_attribute('title') == 'Go to next page'):\n",
    "#         nextpage.click()\n",
    "# #         print('clicked next')\n",
    "#         output.extend(getNews())\n",
    "#     nextpage = True\n",
    "#     while (nextpage):  \n",
    "#         try:            \n",
    "#             nextpage = WebDriverWait(driver,20).until(EC.visibility_of_all_elements_located((By.XPATH,'//*[@id=\"content\"]/section/div[4]/div/div/div/div/div/article/div/div/div/div[1]/div/div/nav/ul/li[3]/a')))[0]\n",
    "#             if (nextpage.get_attribute('title') == 'Go to next page'):\n",
    "#                 nextpage.click()\n",
    "# #                 print('clicked next')\n",
    "#                 output.extend(getNews())\n",
    "#             else: \n",
    "#                 nextpage = False\n",
    "#         except:\n",
    "# #             print(\"no next page!\")\n",
    "#             nextpage = False\n",
    "    return output\n",
    "\n",
    "output = []\n",
    "for i in range(0,10):\n",
    "    print(i)\n",
    "    url = f\"https://www.straitstimes.com/tags/Bukit-Merah?page={i}\"\n",
    "    output.extend(getStraitsTimesNews(url))\n",
    "#     print(output)\n",
    "\n",
    "# convert to df and export as csv\n",
    "df = pd.DataFrame(output, columns=['date','location','news title', 'news source(url)', 'content summary', 'keywords'])\n",
    "#df.to_csv(f\"Ang-Mo-Kio-tag_straitstimes.csv\")\n",
    "#df.to_csv(r'Bedok-tag_straitstimes.csv')"
   ]
  },
  {
   "cell_type": "code",
   "execution_count": null,
   "metadata": {
    "id": "c823baf2"
   },
   "outputs": [],
   "source": [
    "df.to_csv(r'C:/Users/jonat/Bukit-Merah-tag_straitstimes.csv')"
   ]
  },
  {
   "cell_type": "code",
   "execution_count": null,
   "metadata": {},
   "outputs": [],
   "source": []
  }
 ],
 "metadata": {
  "colab": {
   "provenance": []
  },
  "kernelspec": {
   "display_name": "Python 3",
   "language": "python",
   "name": "python3"
  },
  "language_info": {
   "codemirror_mode": {
    "name": "ipython",
    "version": 3
   },
   "file_extension": ".py",
   "mimetype": "text/x-python",
   "name": "python",
   "nbconvert_exporter": "python",
   "pygments_lexer": "ipython3",
   "version": "3.7.4"
  }
 },
 "nbformat": 4,
 "nbformat_minor": 5
}
