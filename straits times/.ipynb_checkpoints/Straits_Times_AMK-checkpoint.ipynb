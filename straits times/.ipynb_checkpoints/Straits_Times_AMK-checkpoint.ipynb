{
 "cells": [
  {
   "cell_type": "markdown",
   "id": "7a4735c2",
   "metadata": {
    "id": "124bab15"
   },
   "source": [
    "## Scraping module\n",
    "Scraping of straits times news article by tag (food-prices) <br>\n",
    "Hard-coded a bit"
   ]
  },
  {
   "cell_type": "markdown",
   "id": "08800b14",
   "metadata": {
    "id": "dcdd196d"
   },
   "source": [
    "### Imports"
   ]
  },
  {
   "cell_type": "code",
   "execution_count": 1,
   "id": "65e8510d",
   "metadata": {
    "id": "ca93f801"
   },
   "outputs": [
    {
     "name": "stderr",
     "output_type": "stream",
     "text": [
      "[nltk_data] Downloading package punkt to\n",
      "[nltk_data]     C:\\Users\\Shawn\\AppData\\Roaming\\nltk_data...\n",
      "[nltk_data]   Package punkt is already up-to-date!\n"
     ]
    },
    {
     "data": {
      "text/plain": [
       "True"
      ]
     },
     "execution_count": 1,
     "metadata": {},
     "output_type": "execute_result"
    }
   ],
   "source": [
    "# !pip install nltk\n",
    "import nltk\n",
    "nltk.download('punkt')"
   ]
  },
  {
   "cell_type": "code",
   "execution_count": 2,
   "id": "ab926be7",
   "metadata": {
    "id": "36c70b1a"
   },
   "outputs": [],
   "source": [
    "# !pip install newspaper3k\n",
    "# !pip install selenium\n",
    "# !pip install webdriver-manager"
   ]
  },
  {
   "cell_type": "code",
   "execution_count": 3,
   "id": "2bcb7232",
   "metadata": {
    "id": "de9298a7"
   },
   "outputs": [],
   "source": [
    "from selenium import webdriver\n",
    "from selenium.webdriver.support.ui import WebDriverWait\n",
    "from selenium.webdriver.common.by import By\n",
    "from selenium.webdriver.support import expected_conditions as EC\n",
    "import time\n",
    "\n",
    "from newspaper import Article\n",
    "import pandas as pd\n",
    "import datetime"
   ]
  },
  {
   "cell_type": "code",
   "execution_count": 4,
   "id": "84918dae",
   "metadata": {},
   "outputs": [],
   "source": [
    "from webdriver_manager.chrome import ChromeDriverManager"
   ]
  },
  {
   "cell_type": "code",
   "execution_count": 5,
   "id": "339f3296",
   "metadata": {},
   "outputs": [],
   "source": [
    "from selenium.webdriver.common.by import By"
   ]
  },
  {
   "cell_type": "markdown",
   "id": "0af461ea",
   "metadata": {
    "id": "97796fe2"
   },
   "source": [
    "### Newspaper Article Summariser"
   ]
  },
  {
   "cell_type": "code",
   "execution_count": 6,
   "id": "4157dc2a",
   "metadata": {
    "id": "5ac9cb9b",
    "scrolled": true
   },
   "outputs": [],
   "source": [
    "def getSummary(url):\n",
    "    article = Article(url)\n",
    "    article.download()\n",
    "    article.parse()\n",
    "    article.nlp()\n",
    "    full_text = article.text\n",
    "    location = full_text[0:full_text.find(\"-\")]\n",
    "    return article.summary, article.keywords, article.publish_date, location"
   ]
  },
  {
   "cell_type": "markdown",
   "id": "d3430c47",
   "metadata": {
    "id": "b1bec0c0"
   },
   "source": [
    "### StraitsTimes Scraper"
   ]
  },
  {
   "cell_type": "code",
   "execution_count": 7,
   "id": "a2df01ce",
   "metadata": {
    "colab": {
     "base_uri": "https://localhost:8080/",
     "height": 487
    },
    "id": "d6029804",
    "outputId": "23e66315-061b-471c-ab8a-a1bfae7adb8b"
   },
   "outputs": [
    {
     "name": "stderr",
     "output_type": "stream",
     "text": [
      "<ipython-input-7-aaae4ff00a54>:3: DeprecationWarning: executable_path has been deprecated, please pass in a Service object\n",
      "  driver = webdriver.Chrome(ChromeDriverManager().install())\n"
     ]
    }
   ],
   "source": [
    "# change to ur own directory!\n",
    "#driver = webdriver.Chrome(r\"C:/Users/jonat/chromedriver.exe\")\n",
    "driver = webdriver.Chrome(ChromeDriverManager().install())\n",
    "\n",
    "def getNews():\n",
    "    output = []\n",
    "    \n",
    "    # get news title in a page - need a for loop to get all the pages!\n",
    "    all_news_per_page=WebDriverWait(driver,20).until(EC.visibility_of_all_elements_located((By.CLASS_NAME,\"views-row\")))\n",
    "    \n",
    "    # get news url (i.e. news source) & news summary & keywords using the summariser module\n",
    "    for i in range(len(all_news_per_page)-1):\n",
    "        news_details = []\n",
    "        try: \n",
    "            xpath = f'//*[@id=\"content\"]/section/div[4]/div/div/div/div/div/article/div/div/div/div[1]/div/div/div/div[{i+1}]/div/div/a'        \n",
    "            url = all_news_per_page[i].find_element(By.XPATH,xpath).get_attribute('href')\n",
    "            summary = getSummary(url)\n",
    "            date = summary[2].strftime('%d/%m/%Y')[3:]\n",
    "            news_details.append(date)\n",
    "            news_details.append(summary[3])\n",
    "            news_details.append(all_news_per_page[i].text)\n",
    "            news_details.append(url)\n",
    "            news_details.append(summary[0])\n",
    "            news_details.append(\", \".join(summary[1]))\n",
    "            output.append(news_details)\n",
    "        except: \n",
    "            continue\n",
    "    return output"
   ]
  },
  {
   "cell_type": "code",
   "execution_count": 8,
   "id": "1e57fcb2",
   "metadata": {},
   "outputs": [
    {
     "name": "stdout",
     "output_type": "stream",
     "text": [
      "0\n"
     ]
    },
    {
     "ename": "TimeoutException",
     "evalue": "Message: \n",
     "output_type": "error",
     "traceback": [
      "\u001b[1;31m---------------------------------------------------------------------------\u001b[0m",
      "\u001b[1;31mTimeoutException\u001b[0m                          Traceback (most recent call last)",
      "\u001b[1;32m<ipython-input-8-a9d0df62708b>\u001b[0m in \u001b[0;36m<module>\u001b[1;34m\u001b[0m\n\u001b[0;32m     25\u001b[0m     \u001b[0mprint\u001b[0m\u001b[1;33m(\u001b[0m\u001b[0mi\u001b[0m\u001b[1;33m)\u001b[0m\u001b[1;33m\u001b[0m\u001b[1;33m\u001b[0m\u001b[0m\n\u001b[0;32m     26\u001b[0m     \u001b[0murl\u001b[0m \u001b[1;33m=\u001b[0m \u001b[1;34mf\"https://www.straitstimes.com/tags/Bukit-Merah?page={i}\"\u001b[0m\u001b[1;33m\u001b[0m\u001b[1;33m\u001b[0m\u001b[0m\n\u001b[1;32m---> 27\u001b[1;33m     \u001b[0moutput\u001b[0m\u001b[1;33m.\u001b[0m\u001b[0mextend\u001b[0m\u001b[1;33m(\u001b[0m\u001b[0mgetStraitsTimesNews\u001b[0m\u001b[1;33m(\u001b[0m\u001b[0murl\u001b[0m\u001b[1;33m)\u001b[0m\u001b[1;33m)\u001b[0m\u001b[1;33m\u001b[0m\u001b[1;33m\u001b[0m\u001b[0m\n\u001b[0m\u001b[0;32m     28\u001b[0m \u001b[0mprint\u001b[0m\u001b[1;33m(\u001b[0m\u001b[1;34m\"done\"\u001b[0m\u001b[1;33m)\u001b[0m\u001b[1;33m\u001b[0m\u001b[1;33m\u001b[0m\u001b[0m\n\u001b[0;32m     29\u001b[0m \u001b[1;33m\u001b[0m\u001b[0m\n",
      "\u001b[1;32m<ipython-input-8-a9d0df62708b>\u001b[0m in \u001b[0;36mgetStraitsTimesNews\u001b[1;34m(base_url)\u001b[0m\n\u001b[0;32m     17\u001b[0m \u001b[1;33m\u001b[0m\u001b[0m\n\u001b[0;32m     18\u001b[0m     \u001b[1;31m# get news on page\u001b[0m\u001b[1;33m\u001b[0m\u001b[1;33m\u001b[0m\u001b[1;33m\u001b[0m\u001b[0m\n\u001b[1;32m---> 19\u001b[1;33m     \u001b[0moutput\u001b[0m \u001b[1;33m=\u001b[0m \u001b[0mgetNews\u001b[0m\u001b[1;33m(\u001b[0m\u001b[1;33m)\u001b[0m\u001b[1;33m\u001b[0m\u001b[1;33m\u001b[0m\u001b[0m\n\u001b[0m\u001b[0;32m     20\u001b[0m \u001b[1;33m\u001b[0m\u001b[0m\n\u001b[0;32m     21\u001b[0m     \u001b[1;32mreturn\u001b[0m \u001b[0moutput\u001b[0m\u001b[1;33m\u001b[0m\u001b[1;33m\u001b[0m\u001b[0m\n",
      "\u001b[1;32m<ipython-input-7-aaae4ff00a54>\u001b[0m in \u001b[0;36mgetNews\u001b[1;34m()\u001b[0m\n\u001b[0;32m      7\u001b[0m \u001b[1;33m\u001b[0m\u001b[0m\n\u001b[0;32m      8\u001b[0m     \u001b[1;31m# get news title in a page - need a for loop to get all the pages!\u001b[0m\u001b[1;33m\u001b[0m\u001b[1;33m\u001b[0m\u001b[1;33m\u001b[0m\u001b[0m\n\u001b[1;32m----> 9\u001b[1;33m     \u001b[0mall_news_per_page\u001b[0m\u001b[1;33m=\u001b[0m\u001b[0mWebDriverWait\u001b[0m\u001b[1;33m(\u001b[0m\u001b[0mdriver\u001b[0m\u001b[1;33m,\u001b[0m\u001b[1;36m20\u001b[0m\u001b[1;33m)\u001b[0m\u001b[1;33m.\u001b[0m\u001b[0muntil\u001b[0m\u001b[1;33m(\u001b[0m\u001b[0mEC\u001b[0m\u001b[1;33m.\u001b[0m\u001b[0mvisibility_of_all_elements_located\u001b[0m\u001b[1;33m(\u001b[0m\u001b[1;33m(\u001b[0m\u001b[0mBy\u001b[0m\u001b[1;33m.\u001b[0m\u001b[0mCLASS_NAME\u001b[0m\u001b[1;33m,\u001b[0m\u001b[1;34m\"views-row\"\u001b[0m\u001b[1;33m)\u001b[0m\u001b[1;33m)\u001b[0m\u001b[1;33m)\u001b[0m\u001b[1;33m\u001b[0m\u001b[1;33m\u001b[0m\u001b[0m\n\u001b[0m\u001b[0;32m     10\u001b[0m \u001b[1;33m\u001b[0m\u001b[0m\n\u001b[0;32m     11\u001b[0m     \u001b[1;31m# get news url (i.e. news source) & news summary & keywords using the summariser module\u001b[0m\u001b[1;33m\u001b[0m\u001b[1;33m\u001b[0m\u001b[1;33m\u001b[0m\u001b[0m\n",
      "\u001b[1;32m~\\anaconda3\\lib\\site-packages\\selenium\\webdriver\\support\\wait.py\u001b[0m in \u001b[0;36muntil\u001b[1;34m(self, method, message)\u001b[0m\n\u001b[0;32m     88\u001b[0m             \u001b[1;32mif\u001b[0m \u001b[0mtime\u001b[0m\u001b[1;33m.\u001b[0m\u001b[0mmonotonic\u001b[0m\u001b[1;33m(\u001b[0m\u001b[1;33m)\u001b[0m \u001b[1;33m>\u001b[0m \u001b[0mend_time\u001b[0m\u001b[1;33m:\u001b[0m\u001b[1;33m\u001b[0m\u001b[1;33m\u001b[0m\u001b[0m\n\u001b[0;32m     89\u001b[0m                 \u001b[1;32mbreak\u001b[0m\u001b[1;33m\u001b[0m\u001b[1;33m\u001b[0m\u001b[0m\n\u001b[1;32m---> 90\u001b[1;33m         \u001b[1;32mraise\u001b[0m \u001b[0mTimeoutException\u001b[0m\u001b[1;33m(\u001b[0m\u001b[0mmessage\u001b[0m\u001b[1;33m,\u001b[0m \u001b[0mscreen\u001b[0m\u001b[1;33m,\u001b[0m \u001b[0mstacktrace\u001b[0m\u001b[1;33m)\u001b[0m\u001b[1;33m\u001b[0m\u001b[1;33m\u001b[0m\u001b[0m\n\u001b[0m\u001b[0;32m     91\u001b[0m \u001b[1;33m\u001b[0m\u001b[0m\n\u001b[0;32m     92\u001b[0m     \u001b[1;32mdef\u001b[0m \u001b[0muntil_not\u001b[0m\u001b[1;33m(\u001b[0m\u001b[0mself\u001b[0m\u001b[1;33m,\u001b[0m \u001b[0mmethod\u001b[0m\u001b[1;33m,\u001b[0m \u001b[0mmessage\u001b[0m\u001b[1;33m:\u001b[0m \u001b[0mstr\u001b[0m \u001b[1;33m=\u001b[0m \u001b[1;34m\"\"\u001b[0m\u001b[1;33m)\u001b[0m\u001b[1;33m:\u001b[0m\u001b[1;33m\u001b[0m\u001b[1;33m\u001b[0m\u001b[0m\n",
      "\u001b[1;31mTimeoutException\u001b[0m: Message: \n"
     ]
    }
   ],
   "source": [
    "def getStraitsTimesNews(base_url):\n",
    "    driver.get(base_url)\n",
    "\n",
    "    # close ad (if any)\n",
    "    try:\n",
    "        time.sleep(2)\n",
    "        iframe=driver.find_elements(By.TAG_NAME,\"iframe\")[3]\n",
    "        driver.switch_to.frame(iframe)\n",
    "        driver.find_elements(By.TAG_NAME,\"iframe\")\n",
    "        ad = driver.switch_to.frame(0)\n",
    "        driver.find_element(By.ID,'pclose-btn').click()\n",
    "#         driver.find_element(By.CLASS_NAME,'bz-el bz-pclose-btn knd-BUTTON').click()\n",
    "        driver.switch_to.default_content()\n",
    "\n",
    "    except:\n",
    "        driver.switch_to.default_content()\n",
    "\n",
    "    # get news on page\n",
    "    output = getNews()\n",
    "    \n",
    "    return output\n",
    "\n",
    "output = []\n",
    "for i in range(0,2):\n",
    "    print(i)\n",
    "    url = f\"https://www.straitstimes.com/tags/Bukit-Merah?page={i}\"\n",
    "    output.extend(getStraitsTimesNews(url))\n",
    "print(\"done\")\n",
    "\n",
    "# convert to df and export as csv\n",
    "df = pd.DataFrame(output, columns=['date','location','news title', 'news source(url)', 'content summary', 'keywords'])\n",
    "df.to_csv(f\"Bukit-Merah-tag_straitstimes.csv\")\n",
    "df\n"
   ]
  },
  {
   "cell_type": "code",
   "execution_count": null,
   "id": "dcb17e69",
   "metadata": {
    "id": "d4b5d343"
   },
   "outputs": [],
   "source": [
    "# def getStraitsTimesNews(base_url):\n",
    "#     driver.get(base_url)\n",
    "\n",
    "#     # close ad (if any)\n",
    "#     try:\n",
    "#         iframe=driver.find_elements_by_tag_name(\"iframe\")[3]\n",
    "#         driver.switch_to.frame(iframe)\n",
    "#         driver.find_elements_by_tag_name(\"iframe\")\n",
    "#         ad = driver.switch_to.frame(0)\n",
    "#         driver.find_element_by_id('pclose-btn').click()\n",
    "#         driver.switch_to.default_content()\n",
    "#     except:\n",
    "#         driver.switch_to.default_content()\n",
    "    \n",
    "#     # filter the search result by date by xpath accordingly\n",
    "#     # within 24 hours, within one week, within 30 days, within a year, within three years\n",
    "# #     filter_by_date = WebDriverWait(driver,20).until(EC.visibility_of_all_elements_located((By.XPATH,\"//*[contains(text(), 'within three years')]\")))[0].click()\n",
    "\n",
    "#     # get news on page\n",
    "#     output = getNews()\n",
    "    \n",
    "#     # check for next page\n",
    "# #     nextpage = WebDriverWait(driver,20).until(EC.visibility_of_all_elements_located((By.XPATH,'//*[@id=\"content\"]/section/div[4]/div/div/div/div/div/article/div/div/div/div[1]/div/div/nav/ul/li[2]/a')))[0]\n",
    "# #     if (nextpage.get_attribute('title') == 'Go to next page'):\n",
    "# #         nextpage.click()\n",
    "# # #         print('clicked next')\n",
    "# #         output.extend(getNews())\n",
    "# #     nextpage = True\n",
    "# #     while (nextpage):  \n",
    "# #         try:            \n",
    "# #             nextpage = WebDriverWait(driver,20).until(EC.visibility_of_all_elements_located((By.XPATH,'//*[@id=\"content\"]/section/div[4]/div/div/div/div/div/article/div/div/div/div[1]/div/div/nav/ul/li[3]/a')))[0]\n",
    "# #             if (nextpage.get_attribute('title') == 'Go to next page'):\n",
    "# #                 nextpage.click()\n",
    "# # #                 print('clicked next')\n",
    "# #                 output.extend(getNews())\n",
    "# #             else: \n",
    "# #                 nextpage = False\n",
    "# #         except:\n",
    "# # #             print(\"no next page!\")\n",
    "# #             nextpage = False\n",
    "#     return output\n",
    "\n",
    "# output = []\n",
    "# for i in range(0,2):\n",
    "#     print(i)\n",
    "#     url = f\"https://www.straitstimes.com/tags/Bukit-Merah?page={i}\"\n",
    "#     output.extend(getStraitsTimesNews(url))\n",
    "# #     print(output)\n",
    "\n",
    "# # convert to df and export as csv\n",
    "# df = pd.DataFrame(output, columns=['date','location','news title', 'news source(url)', 'content summary', 'keywords'])\n",
    "# #df.to_csv(f\"Ang-Mo-Kio-tag_straitstimes.csv\")\n",
    "# #df.to_csv(r'Bedok-tag_straitstimes.csv')"
   ]
  },
  {
   "cell_type": "code",
   "execution_count": null,
   "id": "0a2929f2",
   "metadata": {
    "id": "c823baf2"
   },
   "outputs": [],
   "source": [
    "# df.to_csv(r'C:/Users/jonat/Bukit-Merah-tag_straitstimes.csv')"
   ]
  },
  {
   "cell_type": "code",
   "execution_count": null,
   "id": "dd537283",
   "metadata": {},
   "outputs": [],
   "source": []
  }
 ],
 "metadata": {
  "colab": {
   "provenance": []
  },
  "kernelspec": {
   "display_name": "Python 3",
   "language": "python",
   "name": "python3"
  },
  "language_info": {
   "codemirror_mode": {
    "name": "ipython",
    "version": 3
   },
   "file_extension": ".py",
   "mimetype": "text/x-python",
   "name": "python",
   "nbconvert_exporter": "python",
   "pygments_lexer": "ipython3",
   "version": "3.8.8"
  }
 },
 "nbformat": 4,
 "nbformat_minor": 5
}
