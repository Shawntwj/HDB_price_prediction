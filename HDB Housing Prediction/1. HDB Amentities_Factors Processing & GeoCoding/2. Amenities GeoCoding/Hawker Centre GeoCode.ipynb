{
 "cells": [
  {
   "cell_type": "code",
   "execution_count": 1,
   "id": "63dee63a",
   "metadata": {},
   "outputs": [],
   "source": [
    "import requests as requests\n",
    "import pandas as pd\n",
    "import json\n",
    "import folium\n",
    "from folium.plugins import MarkerCluster"
   ]
  },
  {
   "cell_type": "code",
   "execution_count": 2,
   "id": "a795cf91",
   "metadata": {},
   "outputs": [],
   "source": [
    "df = pd.read_excel('Hawker Centre.xlsx')"
   ]
  },
  {
   "cell_type": "code",
   "execution_count": 3,
   "id": "6987039c",
   "metadata": {},
   "outputs": [
    {
     "data": {
      "text/html": [
       "<div>\n",
       "<style scoped>\n",
       "    .dataframe tbody tr th:only-of-type {\n",
       "        vertical-align: middle;\n",
       "    }\n",
       "\n",
       "    .dataframe tbody tr th {\n",
       "        vertical-align: top;\n",
       "    }\n",
       "\n",
       "    .dataframe thead th {\n",
       "        text-align: right;\n",
       "    }\n",
       "</style>\n",
       "<table border=\"1\" class=\"dataframe\">\n",
       "  <thead>\n",
       "    <tr style=\"text-align: right;\">\n",
       "      <th></th>\n",
       "      <th>Name</th>\n",
       "      <th>Addressstr</th>\n",
       "      <th>Addressblock</th>\n",
       "    </tr>\n",
       "  </thead>\n",
       "  <tbody>\n",
       "    <tr>\n",
       "      <th>0</th>\n",
       "      <td>Bedok Reservoir Road Blk 630</td>\n",
       "      <td>Bedok Reservoir Road</td>\n",
       "      <td>630</td>\n",
       "    </tr>\n",
       "    <tr>\n",
       "      <th>1</th>\n",
       "      <td>Bedok South Road Blk 16</td>\n",
       "      <td>Bedok South Road</td>\n",
       "      <td>16</td>\n",
       "    </tr>\n",
       "    <tr>\n",
       "      <th>2</th>\n",
       "      <td>Bendemeer Road Blk 29 (Bendemeer Market and Fo...</td>\n",
       "      <td>Bendemeer Road</td>\n",
       "      <td>29</td>\n",
       "    </tr>\n",
       "    <tr>\n",
       "      <th>3</th>\n",
       "      <td>Beo Crescent Market</td>\n",
       "      <td>Beo Crescent</td>\n",
       "      <td>38A</td>\n",
       "    </tr>\n",
       "    <tr>\n",
       "      <th>4</th>\n",
       "      <td>Berseh Food Centre</td>\n",
       "      <td>Jalan Besar</td>\n",
       "      <td>166</td>\n",
       "    </tr>\n",
       "  </tbody>\n",
       "</table>\n",
       "</div>"
      ],
      "text/plain": [
       "                                                Name            Addressstr  \\\n",
       "0                       Bedok Reservoir Road Blk 630  Bedok Reservoir Road   \n",
       "1                            Bedok South Road Blk 16      Bedok South Road   \n",
       "2  Bendemeer Road Blk 29 (Bendemeer Market and Fo...        Bendemeer Road   \n",
       "3                                Beo Crescent Market          Beo Crescent   \n",
       "4                                 Berseh Food Centre           Jalan Besar   \n",
       "\n",
       "  Addressblock  \n",
       "0          630  \n",
       "1           16  \n",
       "2           29  \n",
       "3          38A  \n",
       "4          166  "
      ]
     },
     "execution_count": 3,
     "metadata": {},
     "output_type": "execute_result"
    }
   ],
   "source": [
    "df.head()"
   ]
  },
  {
   "cell_type": "code",
   "execution_count": 4,
   "id": "ddf92beb",
   "metadata": {},
   "outputs": [
    {
     "name": "stdout",
     "output_type": "stream",
     "text": [
      "<class 'pandas.core.frame.DataFrame'>\n",
      "RangeIndex: 125 entries, 0 to 124\n",
      "Data columns (total 3 columns):\n",
      " #   Column        Non-Null Count  Dtype \n",
      "---  ------        --------------  ----- \n",
      " 0   Name          125 non-null    object\n",
      " 1   Addressstr    123 non-null    object\n",
      " 2   Addressblock  117 non-null    object\n",
      "dtypes: object(3)\n",
      "memory usage: 3.1+ KB\n"
     ]
    }
   ],
   "source": [
    "df.info()"
   ]
  },
  {
   "cell_type": "code",
   "execution_count": 5,
   "id": "8ebd18f3",
   "metadata": {},
   "outputs": [],
   "source": [
    "df[\"Address\"] =  \"Singapore \" + df[\"Name\"]"
   ]
  },
  {
   "cell_type": "code",
   "execution_count": 6,
   "id": "3159fe57",
   "metadata": {},
   "outputs": [
    {
     "data": {
      "text/html": [
       "<div>\n",
       "<style scoped>\n",
       "    .dataframe tbody tr th:only-of-type {\n",
       "        vertical-align: middle;\n",
       "    }\n",
       "\n",
       "    .dataframe tbody tr th {\n",
       "        vertical-align: top;\n",
       "    }\n",
       "\n",
       "    .dataframe thead th {\n",
       "        text-align: right;\n",
       "    }\n",
       "</style>\n",
       "<table border=\"1\" class=\"dataframe\">\n",
       "  <thead>\n",
       "    <tr style=\"text-align: right;\">\n",
       "      <th></th>\n",
       "      <th>Name</th>\n",
       "      <th>Addressstr</th>\n",
       "      <th>Addressblock</th>\n",
       "      <th>Address</th>\n",
       "    </tr>\n",
       "  </thead>\n",
       "  <tbody>\n",
       "    <tr>\n",
       "      <th>0</th>\n",
       "      <td>Bedok Reservoir Road Blk 630</td>\n",
       "      <td>Bedok Reservoir Road</td>\n",
       "      <td>630</td>\n",
       "      <td>Singapore Bedok Reservoir Road Blk 630</td>\n",
       "    </tr>\n",
       "    <tr>\n",
       "      <th>1</th>\n",
       "      <td>Bedok South Road Blk 16</td>\n",
       "      <td>Bedok South Road</td>\n",
       "      <td>16</td>\n",
       "      <td>Singapore Bedok South Road Blk 16</td>\n",
       "    </tr>\n",
       "    <tr>\n",
       "      <th>2</th>\n",
       "      <td>Bendemeer Road Blk 29 (Bendemeer Market and Fo...</td>\n",
       "      <td>Bendemeer Road</td>\n",
       "      <td>29</td>\n",
       "      <td>Singapore Bendemeer Road Blk 29 (Bendemeer Mar...</td>\n",
       "    </tr>\n",
       "    <tr>\n",
       "      <th>3</th>\n",
       "      <td>Beo Crescent Market</td>\n",
       "      <td>Beo Crescent</td>\n",
       "      <td>38A</td>\n",
       "      <td>Singapore Beo Crescent Market</td>\n",
       "    </tr>\n",
       "    <tr>\n",
       "      <th>4</th>\n",
       "      <td>Berseh Food Centre</td>\n",
       "      <td>Jalan Besar</td>\n",
       "      <td>166</td>\n",
       "      <td>Singapore Berseh Food Centre</td>\n",
       "    </tr>\n",
       "  </tbody>\n",
       "</table>\n",
       "</div>"
      ],
      "text/plain": [
       "                                                Name            Addressstr  \\\n",
       "0                       Bedok Reservoir Road Blk 630  Bedok Reservoir Road   \n",
       "1                            Bedok South Road Blk 16      Bedok South Road   \n",
       "2  Bendemeer Road Blk 29 (Bendemeer Market and Fo...        Bendemeer Road   \n",
       "3                                Beo Crescent Market          Beo Crescent   \n",
       "4                                 Berseh Food Centre           Jalan Besar   \n",
       "\n",
       "  Addressblock                                            Address  \n",
       "0          630             Singapore Bedok Reservoir Road Blk 630  \n",
       "1           16                  Singapore Bedok South Road Blk 16  \n",
       "2           29  Singapore Bendemeer Road Blk 29 (Bendemeer Mar...  \n",
       "3          38A                      Singapore Beo Crescent Market  \n",
       "4          166                       Singapore Berseh Food Centre  "
      ]
     },
     "execution_count": 6,
     "metadata": {},
     "output_type": "execute_result"
    }
   ],
   "source": [
    "df.head()"
   ]
  },
  {
   "cell_type": "code",
   "execution_count": 7,
   "id": "9ae6e6ce",
   "metadata": {},
   "outputs": [
    {
     "name": "stdout",
     "output_type": "stream",
     "text": [
      "<class 'pandas.core.frame.DataFrame'>\n",
      "RangeIndex: 125 entries, 0 to 124\n",
      "Data columns (total 4 columns):\n",
      " #   Column        Non-Null Count  Dtype \n",
      "---  ------        --------------  ----- \n",
      " 0   Name          125 non-null    object\n",
      " 1   Addressstr    123 non-null    object\n",
      " 2   Addressblock  117 non-null    object\n",
      " 3   Address       125 non-null    object\n",
      "dtypes: object(4)\n",
      "memory usage: 4.0+ KB\n"
     ]
    }
   ],
   "source": [
    "df.info()"
   ]
  },
  {
   "cell_type": "code",
   "execution_count": 8,
   "id": "2f542694",
   "metadata": {},
   "outputs": [],
   "source": [
    "geo_s ='https://maps.googleapis.com/maps/api/geocode/json'\n",
    "df[\"lat\"] = \"\"\n",
    "df[\"lng\"] = \"\"\n",
    "\n",
    "\n",
    "for i in range(len(df)):\n",
    "    param = {'address': df[\"Address\"][i], 'key': ''}\n",
    "\n",
    "    response = requests.get(geo_s, params=param)\n",
    "\n",
    "    json_dict = response.json()\n",
    "\n",
    "    df[\"lat\"][i] = json_dict['results'][0]['geometry']['location']['lat']\n",
    "    df[\"lng\"][i] = json_dict['results'][0]['geometry']['location']['lng']"
   ]
  },
  {
   "cell_type": "code",
   "execution_count": 9,
   "id": "35dc53c8",
   "metadata": {},
   "outputs": [
    {
     "data": {
      "text/html": [
       "<div>\n",
       "<style scoped>\n",
       "    .dataframe tbody tr th:only-of-type {\n",
       "        vertical-align: middle;\n",
       "    }\n",
       "\n",
       "    .dataframe tbody tr th {\n",
       "        vertical-align: top;\n",
       "    }\n",
       "\n",
       "    .dataframe thead th {\n",
       "        text-align: right;\n",
       "    }\n",
       "</style>\n",
       "<table border=\"1\" class=\"dataframe\">\n",
       "  <thead>\n",
       "    <tr style=\"text-align: right;\">\n",
       "      <th></th>\n",
       "      <th>Name</th>\n",
       "      <th>Addressstr</th>\n",
       "      <th>Addressblock</th>\n",
       "      <th>Address</th>\n",
       "      <th>lat</th>\n",
       "      <th>lng</th>\n",
       "    </tr>\n",
       "  </thead>\n",
       "  <tbody>\n",
       "    <tr>\n",
       "      <th>0</th>\n",
       "      <td>Bedok Reservoir Road Blk 630</td>\n",
       "      <td>Bedok Reservoir Road</td>\n",
       "      <td>630</td>\n",
       "      <td>Singapore Bedok Reservoir Road Blk 630</td>\n",
       "      <td>1.333022</td>\n",
       "      <td>103.914136</td>\n",
       "    </tr>\n",
       "    <tr>\n",
       "      <th>1</th>\n",
       "      <td>Bedok South Road Blk 16</td>\n",
       "      <td>Bedok South Road</td>\n",
       "      <td>16</td>\n",
       "      <td>Singapore Bedok South Road Blk 16</td>\n",
       "      <td>1.320536</td>\n",
       "      <td>103.935517</td>\n",
       "    </tr>\n",
       "    <tr>\n",
       "      <th>2</th>\n",
       "      <td>Bendemeer Road Blk 29 (Bendemeer Market and Fo...</td>\n",
       "      <td>Bendemeer Road</td>\n",
       "      <td>29</td>\n",
       "      <td>Singapore Bendemeer Road Blk 29 (Bendemeer Mar...</td>\n",
       "      <td>1.319067</td>\n",
       "      <td>103.863121</td>\n",
       "    </tr>\n",
       "    <tr>\n",
       "      <th>3</th>\n",
       "      <td>Beo Crescent Market</td>\n",
       "      <td>Beo Crescent</td>\n",
       "      <td>38A</td>\n",
       "      <td>Singapore Beo Crescent Market</td>\n",
       "      <td>1.288721</td>\n",
       "      <td>103.827519</td>\n",
       "    </tr>\n",
       "    <tr>\n",
       "      <th>4</th>\n",
       "      <td>Berseh Food Centre</td>\n",
       "      <td>Jalan Besar</td>\n",
       "      <td>166</td>\n",
       "      <td>Singapore Berseh Food Centre</td>\n",
       "      <td>1.307354</td>\n",
       "      <td>103.856749</td>\n",
       "    </tr>\n",
       "  </tbody>\n",
       "</table>\n",
       "</div>"
      ],
      "text/plain": [
       "                                                Name            Addressstr  \\\n",
       "0                       Bedok Reservoir Road Blk 630  Bedok Reservoir Road   \n",
       "1                            Bedok South Road Blk 16      Bedok South Road   \n",
       "2  Bendemeer Road Blk 29 (Bendemeer Market and Fo...        Bendemeer Road   \n",
       "3                                Beo Crescent Market          Beo Crescent   \n",
       "4                                 Berseh Food Centre           Jalan Besar   \n",
       "\n",
       "  Addressblock                                            Address       lat  \\\n",
       "0          630             Singapore Bedok Reservoir Road Blk 630  1.333022   \n",
       "1           16                  Singapore Bedok South Road Blk 16  1.320536   \n",
       "2           29  Singapore Bendemeer Road Blk 29 (Bendemeer Mar...  1.319067   \n",
       "3          38A                      Singapore Beo Crescent Market  1.288721   \n",
       "4          166                       Singapore Berseh Food Centre  1.307354   \n",
       "\n",
       "          lng  \n",
       "0  103.914136  \n",
       "1  103.935517  \n",
       "2  103.863121  \n",
       "3  103.827519  \n",
       "4  103.856749  "
      ]
     },
     "execution_count": 9,
     "metadata": {},
     "output_type": "execute_result"
    }
   ],
   "source": [
    "df.head()"
   ]
  },
  {
   "cell_type": "code",
   "execution_count": 10,
   "id": "a262c0cf",
   "metadata": {},
   "outputs": [],
   "source": [
    "df.to_csv(\"Preprocessed Hawker Centre.csv\")"
   ]
  }
 ],
 "metadata": {
  "kernelspec": {
   "display_name": "Python 3 (ipykernel)",
   "language": "python",
   "name": "python3"
  },
  "language_info": {
   "codemirror_mode": {
    "name": "ipython",
    "version": 3
   },
   "file_extension": ".py",
   "mimetype": "text/x-python",
   "name": "python",
   "nbconvert_exporter": "python",
   "pygments_lexer": "ipython3",
   "version": "3.8.8"
  }
 },
 "nbformat": 4,
 "nbformat_minor": 5
}
