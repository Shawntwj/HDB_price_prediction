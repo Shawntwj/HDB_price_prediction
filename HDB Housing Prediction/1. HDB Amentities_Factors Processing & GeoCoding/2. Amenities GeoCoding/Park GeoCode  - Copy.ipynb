{
 "cells": [
  {
   "cell_type": "code",
   "execution_count": 1,
   "id": "63dee63a",
   "metadata": {},
   "outputs": [],
   "source": [
    "import requests as requests\n",
    "import pandas as pd\n",
    "import json\n",
    "import folium\n",
    "from folium.plugins import MarkerCluster"
   ]
  },
  {
   "cell_type": "code",
   "execution_count": 4,
   "id": "a795cf91",
   "metadata": {},
   "outputs": [],
   "source": [
    "df = pd.read_excel('Parks.xlsx')"
   ]
  },
  {
   "cell_type": "code",
   "execution_count": 5,
   "id": "6987039c",
   "metadata": {},
   "outputs": [
    {
     "data": {
      "text/html": [
       "<div>\n",
       "<style scoped>\n",
       "    .dataframe tbody tr th:only-of-type {\n",
       "        vertical-align: middle;\n",
       "    }\n",
       "\n",
       "    .dataframe tbody tr th {\n",
       "        vertical-align: top;\n",
       "    }\n",
       "\n",
       "    .dataframe thead th {\n",
       "        text-align: right;\n",
       "    }\n",
       "</style>\n",
       "<table border=\"1\" class=\"dataframe\">\n",
       "  <thead>\n",
       "    <tr style=\"text-align: right;\">\n",
       "      <th></th>\n",
       "      <th>Name</th>\n",
       "    </tr>\n",
       "  </thead>\n",
       "  <tbody>\n",
       "    <tr>\n",
       "      <th>0</th>\n",
       "      <td>Telok Ayer Green</td>\n",
       "    </tr>\n",
       "    <tr>\n",
       "      <th>1</th>\n",
       "      <td>Mayflower Crescent Playground</td>\n",
       "    </tr>\n",
       "    <tr>\n",
       "      <th>2</th>\n",
       "      <td>Sunrise Drive Playground 1</td>\n",
       "    </tr>\n",
       "    <tr>\n",
       "      <th>3</th>\n",
       "      <td>Elias Terrace Playground</td>\n",
       "    </tr>\n",
       "    <tr>\n",
       "      <th>4</th>\n",
       "      <td>Kew Avenue Playground</td>\n",
       "    </tr>\n",
       "  </tbody>\n",
       "</table>\n",
       "</div>"
      ],
      "text/plain": [
       "                            Name\n",
       "0               Telok Ayer Green\n",
       "1  Mayflower Crescent Playground\n",
       "2     Sunrise Drive Playground 1\n",
       "3       Elias Terrace Playground\n",
       "4          Kew Avenue Playground"
      ]
     },
     "execution_count": 5,
     "metadata": {},
     "output_type": "execute_result"
    }
   ],
   "source": [
    "df.head()"
   ]
  },
  {
   "cell_type": "code",
   "execution_count": 6,
   "id": "ddf92beb",
   "metadata": {},
   "outputs": [
    {
     "name": "stdout",
     "output_type": "stream",
     "text": [
      "<class 'pandas.core.frame.DataFrame'>\n",
      "RangeIndex: 352 entries, 0 to 351\n",
      "Data columns (total 1 columns):\n",
      " #   Column  Non-Null Count  Dtype \n",
      "---  ------  --------------  ----- \n",
      " 0   Name    352 non-null    object\n",
      "dtypes: object(1)\n",
      "memory usage: 2.9+ KB\n"
     ]
    }
   ],
   "source": [
    "df.info()"
   ]
  },
  {
   "cell_type": "code",
   "execution_count": 7,
   "id": "8ebd18f3",
   "metadata": {},
   "outputs": [],
   "source": [
    "df[\"Address\"] =  \"Singapore \" + df[\"Name\"]"
   ]
  },
  {
   "cell_type": "code",
   "execution_count": 8,
   "id": "3159fe57",
   "metadata": {},
   "outputs": [
    {
     "data": {
      "text/html": [
       "<div>\n",
       "<style scoped>\n",
       "    .dataframe tbody tr th:only-of-type {\n",
       "        vertical-align: middle;\n",
       "    }\n",
       "\n",
       "    .dataframe tbody tr th {\n",
       "        vertical-align: top;\n",
       "    }\n",
       "\n",
       "    .dataframe thead th {\n",
       "        text-align: right;\n",
       "    }\n",
       "</style>\n",
       "<table border=\"1\" class=\"dataframe\">\n",
       "  <thead>\n",
       "    <tr style=\"text-align: right;\">\n",
       "      <th></th>\n",
       "      <th>Name</th>\n",
       "      <th>Address</th>\n",
       "    </tr>\n",
       "  </thead>\n",
       "  <tbody>\n",
       "    <tr>\n",
       "      <th>0</th>\n",
       "      <td>Telok Ayer Green</td>\n",
       "      <td>Singapore Telok Ayer Green</td>\n",
       "    </tr>\n",
       "    <tr>\n",
       "      <th>1</th>\n",
       "      <td>Mayflower Crescent Playground</td>\n",
       "      <td>Singapore Mayflower Crescent Playground</td>\n",
       "    </tr>\n",
       "    <tr>\n",
       "      <th>2</th>\n",
       "      <td>Sunrise Drive Playground 1</td>\n",
       "      <td>Singapore Sunrise Drive Playground 1</td>\n",
       "    </tr>\n",
       "    <tr>\n",
       "      <th>3</th>\n",
       "      <td>Elias Terrace Playground</td>\n",
       "      <td>Singapore Elias Terrace Playground</td>\n",
       "    </tr>\n",
       "    <tr>\n",
       "      <th>4</th>\n",
       "      <td>Kew Avenue Playground</td>\n",
       "      <td>Singapore Kew Avenue Playground</td>\n",
       "    </tr>\n",
       "  </tbody>\n",
       "</table>\n",
       "</div>"
      ],
      "text/plain": [
       "                            Name                                  Address\n",
       "0               Telok Ayer Green               Singapore Telok Ayer Green\n",
       "1  Mayflower Crescent Playground  Singapore Mayflower Crescent Playground\n",
       "2     Sunrise Drive Playground 1     Singapore Sunrise Drive Playground 1\n",
       "3       Elias Terrace Playground       Singapore Elias Terrace Playground\n",
       "4          Kew Avenue Playground          Singapore Kew Avenue Playground"
      ]
     },
     "execution_count": 8,
     "metadata": {},
     "output_type": "execute_result"
    }
   ],
   "source": [
    "df.head()"
   ]
  },
  {
   "cell_type": "code",
   "execution_count": 9,
   "id": "9ae6e6ce",
   "metadata": {},
   "outputs": [
    {
     "name": "stdout",
     "output_type": "stream",
     "text": [
      "<class 'pandas.core.frame.DataFrame'>\n",
      "RangeIndex: 352 entries, 0 to 351\n",
      "Data columns (total 2 columns):\n",
      " #   Column   Non-Null Count  Dtype \n",
      "---  ------   --------------  ----- \n",
      " 0   Name     352 non-null    object\n",
      " 1   Address  352 non-null    object\n",
      "dtypes: object(2)\n",
      "memory usage: 5.6+ KB\n"
     ]
    }
   ],
   "source": [
    "df.info()"
   ]
  },
  {
   "cell_type": "code",
   "execution_count": 10,
   "id": "2f542694",
   "metadata": {},
   "outputs": [],
   "source": [
    "geo_s ='https://maps.googleapis.com/maps/api/geocode/json'\n",
    "df[\"lat\"] = \"\"\n",
    "df[\"lng\"] = \"\"\n",
    "\n",
    "\n",
    "for i in range(len(df)):\n",
    "    param = {'address': df[\"Address\"][i], 'key': ''}\n",
    "\n",
    "    response = requests.get(geo_s, params=param)\n",
    "\n",
    "    json_dict = response.json()\n",
    "\n",
    "    df[\"lat\"][i] = json_dict['results'][0]['geometry']['location']['lat']\n",
    "    df[\"lng\"][i] = json_dict['results'][0]['geometry']['location']['lng']"
   ]
  },
  {
   "cell_type": "code",
   "execution_count": 11,
   "id": "35dc53c8",
   "metadata": {},
   "outputs": [
    {
     "data": {
      "text/html": [
       "<div>\n",
       "<style scoped>\n",
       "    .dataframe tbody tr th:only-of-type {\n",
       "        vertical-align: middle;\n",
       "    }\n",
       "\n",
       "    .dataframe tbody tr th {\n",
       "        vertical-align: top;\n",
       "    }\n",
       "\n",
       "    .dataframe thead th {\n",
       "        text-align: right;\n",
       "    }\n",
       "</style>\n",
       "<table border=\"1\" class=\"dataframe\">\n",
       "  <thead>\n",
       "    <tr style=\"text-align: right;\">\n",
       "      <th></th>\n",
       "      <th>Name</th>\n",
       "      <th>Address</th>\n",
       "      <th>lat</th>\n",
       "      <th>lng</th>\n",
       "    </tr>\n",
       "  </thead>\n",
       "  <tbody>\n",
       "    <tr>\n",
       "      <th>0</th>\n",
       "      <td>Telok Ayer Green</td>\n",
       "      <td>Singapore Telok Ayer Green</td>\n",
       "      <td>1.281415</td>\n",
       "      <td>103.847621</td>\n",
       "    </tr>\n",
       "    <tr>\n",
       "      <th>1</th>\n",
       "      <td>Mayflower Crescent Playground</td>\n",
       "      <td>Singapore Mayflower Crescent Playground</td>\n",
       "      <td>1.372784</td>\n",
       "      <td>103.839615</td>\n",
       "    </tr>\n",
       "    <tr>\n",
       "      <th>2</th>\n",
       "      <td>Sunrise Drive Playground 1</td>\n",
       "      <td>Singapore Sunrise Drive Playground 1</td>\n",
       "      <td>1.389294</td>\n",
       "      <td>103.856141</td>\n",
       "    </tr>\n",
       "    <tr>\n",
       "      <th>3</th>\n",
       "      <td>Elias Terrace Playground</td>\n",
       "      <td>Singapore Elias Terrace Playground</td>\n",
       "      <td>1.372274</td>\n",
       "      <td>103.941093</td>\n",
       "    </tr>\n",
       "    <tr>\n",
       "      <th>4</th>\n",
       "      <td>Kew Avenue Playground</td>\n",
       "      <td>Singapore Kew Avenue Playground</td>\n",
       "      <td>1.321471</td>\n",
       "      <td>103.948514</td>\n",
       "    </tr>\n",
       "  </tbody>\n",
       "</table>\n",
       "</div>"
      ],
      "text/plain": [
       "                            Name                                  Address  \\\n",
       "0               Telok Ayer Green               Singapore Telok Ayer Green   \n",
       "1  Mayflower Crescent Playground  Singapore Mayflower Crescent Playground   \n",
       "2     Sunrise Drive Playground 1     Singapore Sunrise Drive Playground 1   \n",
       "3       Elias Terrace Playground       Singapore Elias Terrace Playground   \n",
       "4          Kew Avenue Playground          Singapore Kew Avenue Playground   \n",
       "\n",
       "        lat         lng  \n",
       "0  1.281415  103.847621  \n",
       "1  1.372784  103.839615  \n",
       "2  1.389294  103.856141  \n",
       "3  1.372274  103.941093  \n",
       "4  1.321471  103.948514  "
      ]
     },
     "execution_count": 11,
     "metadata": {},
     "output_type": "execute_result"
    }
   ],
   "source": [
    "df.head()"
   ]
  },
  {
   "cell_type": "code",
   "execution_count": 12,
   "id": "a262c0cf",
   "metadata": {},
   "outputs": [],
   "source": [
    "df.to_csv(\"Preprocessed Parks.csv\")"
   ]
  }
 ],
 "metadata": {
  "kernelspec": {
   "display_name": "Python 3 (ipykernel)",
   "language": "python",
   "name": "python3"
  },
  "language_info": {
   "codemirror_mode": {
    "name": "ipython",
    "version": 3
   },
   "file_extension": ".py",
   "mimetype": "text/x-python",
   "name": "python",
   "nbconvert_exporter": "python",
   "pygments_lexer": "ipython3",
   "version": "3.8.8"
  }
 },
 "nbformat": 4,
 "nbformat_minor": 5
}
