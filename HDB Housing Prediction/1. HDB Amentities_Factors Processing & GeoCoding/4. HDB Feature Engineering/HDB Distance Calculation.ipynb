{
 "cells": [
  {
   "cell_type": "code",
   "execution_count": null,
   "id": "62098045",
   "metadata": {
    "id": "62098045"
   },
   "outputs": [],
   "source": [
    "import pandas as pd\n",
    "import numpy as np\n",
    "import seaborn as sns\n",
    "import matplotlib.pyplot as plt\n",
    "import datetime\n",
    "%matplotlib inline\n",
    "from geopy.distance import geodesic as GD\n",
    "import seaborn as sns\n",
    "from sklearn.linear_model import LinearRegression"
   ]
  },
  {
   "cell_type": "code",
   "execution_count": null,
   "id": "552cdebb",
   "metadata": {
    "id": "552cdebb"
   },
   "outputs": [],
   "source": [
    "#Read the dataset\n",
    "df = pd.read_csv(\"resale-flat-prices-based-on-registration-date-from-jan-2017-onwards.csv\")\n",
    "df2 = pd.read_csv('PreprocessedHDB.csv')\n",
    "\n",
    "#df = pd.read_csv(\"HDB Final GeoCode.csv\")\n",
    "PIE = pd.read_csv(\"PIE.csv\")\n",
    "MCE = pd.read_csv(\"MCE.csv\")\n",
    "KJE = pd.read_csv(\"KJE.csv\")\n",
    "BKE = pd.read_csv(\"BKE.csv\")\n",
    "SLE = pd.read_csv(\"SLE.csv\")\n",
    "KPE = pd.read_csv(\"KPE.csv\")\n",
    "TPE = pd.read_csv(\"TPE.csv\")\n",
    "CTE = pd.read_csv(\"CTE.csv\")\n",
    "ECP = pd.read_csv(\"ECP.csv\")\n",
    "AYE = pd.read_csv(\"AYE.csv\")\n",
    "\n",
    "hawker = pd.read_csv(\"Preprocessed Hawker Centre.csv\")\n",
    "hospital = pd.read_csv(\"Preprocessed Hospital.csv\")\n",
    "mrt = pd.read_csv(\"Preprocessed MRT.csv\")\n",
    "park = pd.read_csv(\"Preprocessed Parks.csv\")\n",
    "polyclinic = pd.read_csv(\"Preprocessed Polyclinic.csv\")\n",
    "prisch = pd.read_csv(\"Preprocessed Pri School.csv\")\n",
    "shoppingmall = pd.read_csv(\"Preprocessed Shopping Mall.csv\")\n",
    "supermarket = pd.read_csv(\"Preprocessed Supermarket.csv\")\n",
    "\n",
    "hdb_fixed = pd.read_csv(\"HDB_fixed.csv\")\n",
    "supermarket_fixed = pd.read_csv(\"Supermarket_Fixed.csv\")\n",
    "park_fixed = pd.read_csv(\"Park_Fixed.csv\")\n",
    "shoppingmall_fixed = pd.read_csv(\"Shoppingmall_Fixed.csv\")\n",
    "mrt_fixed = pd.read_csv(\"MRT_fixed.csv\")\n"
   ]
  },
  {
   "cell_type": "code",
   "execution_count": null,
   "id": "251734d1",
   "metadata": {},
   "outputs": [],
   "source": [
    "def correct_values(df,df2):\n",
    "    for i in range(len(df2)):\n",
    "        df.loc[df.Name == df2[\"Name\"][i], 'lat'] = df2[\"lat\"][i]\n",
    "        df.loc[df.Name == df2[\"Name\"][i], 'lng'] = df2[\"lng\"][i]"
   ]
  },
  {
   "cell_type": "code",
   "execution_count": null,
   "id": "0996a57f",
   "metadata": {},
   "outputs": [],
   "source": [
    "def correct_values_sm(df,df2):\n",
    "    for i in range(len(df2)):\n",
    "        df.loc[df.Postcode == df2[\"Postcode\"][i], 'lat'] = df2[\"lat\"][i]\n",
    "        df.loc[df.Postcode == df2[\"Postcode\"][i], 'lng'] = df2[\"lng\"][i]"
   ]
  },
  {
   "cell_type": "code",
   "execution_count": null,
   "id": "4c245164",
   "metadata": {},
   "outputs": [],
   "source": [
    "def correct_values_hdb(df,df2):\n",
    "    for i in range(len(df2)):\n",
    "        df.loc[df.Address == df2[\"Address\"][i], 'lat'] = df2[\"lat\"][i]\n",
    "        df.loc[df.Address == df2[\"Address\"][i], 'lng'] = df2[\"lng\"][i]"
   ]
  },
  {
   "cell_type": "code",
   "execution_count": null,
   "id": "709b9ec6",
   "metadata": {},
   "outputs": [],
   "source": [
    "def correct_values_mrt(df,df2):\n",
    "    for i in range(len(df2)): \n",
    "        df.loc[df[\"Station name English \"] == df2[\"Station name English \"][i], 'lat'] = df2[\"lat\"][i]\n",
    "        df.loc[df[\"Station name English \"] == df2[\"Station name English \"][i], 'lng'] = df2[\"lng\"][i]"
   ]
  },
  {
   "cell_type": "code",
   "execution_count": null,
   "id": "03bb6b62",
   "metadata": {},
   "outputs": [],
   "source": [
    "hdb_fixed[\"Address\"] =  \"Singapore \" + hdb_fixed.street_name.astype(str) + ' Block ' + hdb_fixed.block.astype(str)"
   ]
  },
  {
   "cell_type": "code",
   "execution_count": null,
   "id": "d333e1b1",
   "metadata": {},
   "outputs": [],
   "source": [
    "correct_values(park, park_fixed)"
   ]
  },
  {
   "cell_type": "code",
   "execution_count": null,
   "id": "9e1a5101",
   "metadata": {},
   "outputs": [],
   "source": [
    "correct_values(shoppingmall, shoppingmall_fixed)"
   ]
  },
  {
   "cell_type": "code",
   "execution_count": null,
   "id": "0d9e7ef5",
   "metadata": {},
   "outputs": [],
   "source": [
    "correct_values_sm(supermarket, supermarket_fixed)"
   ]
  },
  {
   "cell_type": "code",
   "execution_count": null,
   "id": "6360e38a",
   "metadata": {},
   "outputs": [],
   "source": [
    "correct_values_hdb(df2, hdb_fixed)"
   ]
  },
  {
   "cell_type": "code",
   "execution_count": null,
   "id": "d28734bc",
   "metadata": {},
   "outputs": [],
   "source": [
    "correct_values_hdb(mrt, mrt_fixed)"
   ]
  },
  {
   "cell_type": "code",
   "execution_count": null,
   "id": "e0580bd1",
   "metadata": {},
   "outputs": [],
   "source": [
    "df[\"Address\"] =  \"Singapore \" + df.street_name.astype(str) + ' Block ' + df.block.astype(str)"
   ]
  },
  {
   "cell_type": "code",
   "execution_count": null,
   "id": "21b7b4a3",
   "metadata": {
    "id": "21b7b4a3"
   },
   "outputs": [],
   "source": [
    "#previously ran code to add lat long of google API values of all unique address to all rows, howerver, index match in excel instead due to speed of lookup\n",
    "\n",
    "df['lat'] = \"\"\n",
    "df['lng'] = \"\"\n",
    "\n",
    "for i in range(len(df)):\n",
    "    df[\"lat\"][i] = df2[df2[\"Address\"] == df[\"Address\"][i]][\"lat\"].sum()\n",
    "    df[\"lng\"][i] = df2[df2[\"Address\"] == df[\"Address\"][i]][\"lng\"].sum()"
   ]
  },
  {
   "cell_type": "code",
   "execution_count": null,
   "id": "17c20219",
   "metadata": {},
   "outputs": [],
   "source": [
    "df.to_csv(\"HDB Final GeoCode.csv\")"
   ]
  },
  {
   "cell_type": "code",
   "execution_count": null,
   "id": "540c1a3f",
   "metadata": {
    "id": "540c1a3f",
    "outputId": "3b4cf0cc-486a-444e-95b6-f363ff2c9e2f"
   },
   "outputs": [],
   "source": [
    "df.info()"
   ]
  },
  {
   "cell_type": "code",
   "execution_count": null,
   "id": "d492aba5",
   "metadata": {
    "id": "d492aba5"
   },
   "outputs": [],
   "source": [
    "df['month']= pd.to_datetime(df['month'])\n",
    "df[\"date\"] = df[\"month\"]"
   ]
  },
  {
   "cell_type": "code",
   "execution_count": null,
   "id": "87ec09bc",
   "metadata": {
    "id": "87ec09bc"
   },
   "outputs": [],
   "source": [
    "df['year'], df['month'] = df['date'].dt.year, df['date'].dt.month"
   ]
  },
  {
   "cell_type": "code",
   "execution_count": null,
   "id": "5d39ca06",
   "metadata": {},
   "outputs": [],
   "source": [
    "df.columns"
   ]
  },
  {
   "cell_type": "code",
   "execution_count": null,
   "id": "00727ad6",
   "metadata": {
    "id": "00727ad6"
   },
   "outputs": [],
   "source": [
    "df[\"Dist from Nearest Expressway\"] = \"\"\n",
    "df[\"Nearest Expressway\"] = \"\"\n",
    "\n",
    "df[\"Dist from Nearest Hawker Centre\"] = \"\"\n",
    "df[\"Nearest Hawker Centre\"] = \"\"\n",
    "\n",
    "df[\"Dist from Nearest Public Hospital\"] = \"\"\n",
    "df[\"Nearest Public Hospital\"] = \"\"\n",
    "\n",
    "df[\"Dist from Nearest MRT\"] = \"\"\n",
    "df[\"Nearest MRT\"] = \"\"\n",
    "\n",
    "df[\"Dist from Nearest Park\"] = \"\"\n",
    "df[\"Nearest Park\"] = \"\"\n",
    "\n",
    "df[\"Dist from Polyclinic\"] = \"\"\n",
    "df[\"Nearest Polyclinic\"] = \"\"\n",
    "\n",
    "df[\"Dist from Primary School\"] = \"\"\n",
    "df[\"Nearest Primary School\"] = \"\"\n",
    "\n",
    "df[\"Dist from Shopping Mall\"] = \"\"\n",
    "df[\"Nearest Shopping Mall\"] = \"\"\n",
    "\n",
    "df[\"Dist from Nearest Supermarket\"] = \"\"\n",
    "df[\"Nearest Supermarket\"] = \"\"\n",
    "\n",
    "\n",
    "for i in range(len(df)):\n",
    "    dist1 = (df[\"lat\"][i], df[\"lng\"][i])\n",
    "    ExpresswayMin=float('inf')\n",
    "    \n",
    "    hawkerMin=float('inf')\n",
    "    hospitalMin=float('inf')\n",
    "    mrtMin=float('inf')\n",
    "    parkMin=float('inf')\n",
    "    polyclinicMin=float('inf')\n",
    "    prischMin=float('inf')\n",
    "    shoppingmallMin=float('inf')\n",
    "    supermarketMin=float('inf')\n",
    "\n",
    "    #dist between nearest expressway\n",
    "    for a in range(len(PIE)):\n",
    "        dist2 = (PIE[\"lat\"][a], PIE[\"lng\"][a])\n",
    "        if (GD(dist1,dist2).km < ExpresswayMin):\n",
    "            ExpresswayMin = GD(dist1,dist2).km\n",
    "            ExpressWay = \"PIE\"\n",
    "    \n",
    "    for b in range(len(MCE)):\n",
    "        dist2 = (MCE[\"lat\"][b], MCE[\"lng\"][b])\n",
    "        if (GD(dist1,dist2).km < ExpresswayMin):\n",
    "            ExpresswayMin = GD(dist1,dist2).km\n",
    "            ExpressWay = \"MCE\"\n",
    "            \n",
    "    for c in range(len(KJE)):\n",
    "        dist2 = (KJE[\"lat\"][c], KJE[\"lng\"][c])\n",
    "        if (GD(dist1,dist2).km < ExpresswayMin):\n",
    "            ExpresswayMin = GD(dist1,dist2).km\n",
    "            ExpressWay = \"KJE\"\n",
    "            \n",
    "    for d in range(len(BKE)):\n",
    "        dist2 = (BKE[\"lat\"][d], BKE[\"lng\"][d])\n",
    "        if (GD(dist1,dist2).km < ExpresswayMin):\n",
    "            ExpresswayMin = GD(dist1,dist2).km\n",
    "            ExpressWay = \"BKE\"\n",
    "    \n",
    "    for e in range(len(SLE)):\n",
    "        dist2 = (SLE[\"lat\"][e], SLE[\"lng\"][e])\n",
    "        if (GD(dist1,dist2).km < ExpresswayMin):\n",
    "            ExpresswayMin = GD(dist1,dist2).km\n",
    "            ExpressWay = \"SLE\"\n",
    "            \n",
    "    for f in range(len(KPE)):\n",
    "        dist2 = (KPE[\"lat\"][f], KPE[\"lng\"][f])\n",
    "        if (GD(dist1,dist2).km < ExpresswayMin):\n",
    "            ExpresswayMin = GD(dist1,dist2).km\n",
    "            ExpressWay = \"KPE\"\n",
    "            \n",
    "    for g in range(len(TPE)):\n",
    "        dist2 = (TPE[\"lat\"][g], TPE[\"lng\"][g])\n",
    "        if (GD(dist1,dist2).km < ExpresswayMin):\n",
    "            ExpresswayMin = GD(dist1,dist2).km\n",
    "            ExpressWay = \"TPE\"\n",
    "            \n",
    "    for h in range(len(CTE)):\n",
    "        dist2 = (CTE[\"lat\"][h], CTE[\"lng\"][h])\n",
    "        if (GD(dist1,dist2).km < ExpresswayMin):\n",
    "            ExpresswayMin = GD(dist1,dist2).km\n",
    "            ExpressWay = \"CTE\"\n",
    "            \n",
    "    for j in range(len(ECP)):\n",
    "        dist2 = (ECP[\"lat\"][j], ECP[\"lng\"][j])\n",
    "        if (GD(dist1,dist2).km < ExpresswayMin):\n",
    "            ExpresswayMin = GD(dist1,dist2).km\n",
    "            ExpressWay = \"ECP\"\n",
    "            \n",
    "    for k in range(len(AYE)):\n",
    "        dist2 = (AYE[\"lat\"][k], AYE[\"lng\"][k])\n",
    "        if (GD(dist1,dist2).km < ExpresswayMin):\n",
    "            ExpresswayMin = GD(dist1,dist2).km\n",
    "            ExpressWay = \"AYE\"\n",
    "            \n",
    "    for l in range(len(hawker)):\n",
    "        dist2 = (hawker[\"lat\"][l], hawker[\"lng\"][l])\n",
    "        if (GD(dist1,dist2).km < hawkerMin):\n",
    "            hawkerMin = GD(dist1,dist2).km\n",
    "            hawkerName = hawker[\"Name\"][l]\n",
    "    \n",
    "    for m in range(len(hospital)):\n",
    "        dist2 = (hospital[\"lat\"][m], hospital[\"lng\"][m])\n",
    "        if (GD(dist1,dist2).km < hospitalMin):\n",
    "            hospitalMin = GD(dist1,dist2).km\n",
    "            hospitalName = hospital[\"Name\"][m]\n",
    "    \n",
    "    for n in range(len(mrt)):\n",
    "        dist2 = (mrt[\"lat\"][n], mrt[\"lng\"][n])\n",
    "        print(1,dist1)\n",
    "        print(2,dist2, mrt[\"Station name English \"][n])\n",
    "        if (GD(dist1,dist2).km < mrtMin):\n",
    "            mrtMin = GD(dist1,dist2).km\n",
    "            print(3,mrtMin)\n",
    "            mrtName = mrt[\"Station name English \"][n]\n",
    "    \n",
    "    for o in range(len(park)):\n",
    "        dist2 = (park[\"lat\"][o], park[\"lng\"][o])\n",
    "        if (GD(dist1,dist2).km < parkMin):\n",
    "            parkMin = GD(dist1,dist2).km\n",
    "            parkName = park[\"Name\"][o]\n",
    "    \n",
    "    for p in range(len(polyclinic)):\n",
    "        dist2 = (polyclinic[\"lat\"][p], polyclinic[\"lng\"][p])\n",
    "        if (GD(dist1,dist2).km < polyclinicMin):\n",
    "            polyclinicMin = GD(dist1,dist2).km\n",
    "            polyclinicName = polyclinic[\"Name/Location\"][p]\n",
    "    \n",
    "    for q in range(len(prisch)):\n",
    "        dist2 = (prisch[\"lat\"][q], prisch[\"lng\"][q])\n",
    "        if (GD(dist1,dist2).km < prischMin):\n",
    "            prischMin = GD(dist1,dist2).km\n",
    "            prischName = prisch[\"Name\"][q]\n",
    "    \n",
    "    for r in range(len(shoppingmall)):\n",
    "        dist2 = (shoppingmall[\"lat\"][r], shoppingmall[\"lng\"][r])\n",
    "        if (GD(dist1,dist2).km < shoppingmallMin):\n",
    "            shoppingmallMin = GD(dist1,dist2).km\n",
    "            shoppingmallName = shoppingmall[\"Name\"][r]\n",
    "    \n",
    "    for s in range(len(supermarket)):\n",
    "        dist2 = (supermarket[\"lat\"][s], supermarket[\"lng\"][s])\n",
    "        if (GD(dist1,dist2).km < supermarketMin):\n",
    "            supermarketMin = GD(dist1,dist2).km\n",
    "            supermarketName = supermarket[\"Lic Name\"][s]\n",
    "\n",
    "            \n",
    "    df[\"Dist from Nearest Expressway\"][i] = ExpresswayMin\n",
    "    df[\"Nearest Expressway\"][i] = ExpressWay\n",
    "    \n",
    "    df[\"Dist from Nearest Hawker Centre\"][i] = hawkerMin\n",
    "    df[\"Nearest Hawker Centre\"][i] = hawkerName\n",
    "\n",
    "    df[\"Dist from Nearest Public Hospital\"][i] = hospitalMin\n",
    "    df[\"Nearest Public Hospital\"][i] = hospitalName\n",
    "\n",
    "    df[\"Dist from Nearest MRT\"][i] = mrtMin\n",
    "    df[\"Nearest MRT\"][i] = mrtName\n",
    "\n",
    "    df[\"Dist from Nearest Park\"][i] = parkMin\n",
    "    df[\"Nearest Park\"][i] = parkName\n",
    "\n",
    "    df[\"Dist from Polyclinic\"][i] = polyclinicMin\n",
    "    df[\"Nearest Polyclinic\"][i] = polyclinicName\n",
    "\n",
    "    df[\"Dist from Primary School\"][i] = prischMin\n",
    "    df[\"Nearest Primary School\"][i] = prischName\n",
    "\n",
    "    df[\"Dist from Shopping Mall\"][i] = shoppingmallMin\n",
    "    df[\"Nearest Shopping Mall\"][i] = shoppingmallName\n",
    "\n",
    "    df[\"Dist from Nearest Supermarket\"][i] = supermarketMin\n",
    "    df[\"Nearest Supermarket\"][i] = supermarketName"
   ]
  },
  {
   "cell_type": "code",
   "execution_count": null,
   "id": "b71f362e",
   "metadata": {
    "id": "b71f362e"
   },
   "outputs": [],
   "source": [
    "df.head()"
   ]
  },
  {
   "cell_type": "code",
   "execution_count": null,
   "id": "6ea92e65",
   "metadata": {
    "id": "6ea92e65"
   },
   "outputs": [],
   "source": [
    "df.to_csv(\"HDB Final.csv\")"
   ]
  }
 ],
 "metadata": {
  "colab": {
   "provenance": []
  },
  "kernelspec": {
   "display_name": "Python 3 (ipykernel)",
   "language": "python",
   "name": "python3"
  },
  "language_info": {
   "codemirror_mode": {
    "name": "ipython",
    "version": 3
   },
   "file_extension": ".py",
   "mimetype": "text/x-python",
   "name": "python",
   "nbconvert_exporter": "python",
   "pygments_lexer": "ipython3",
   "version": "3.8.8"
  }
 },
 "nbformat": 4,
 "nbformat_minor": 5
}
