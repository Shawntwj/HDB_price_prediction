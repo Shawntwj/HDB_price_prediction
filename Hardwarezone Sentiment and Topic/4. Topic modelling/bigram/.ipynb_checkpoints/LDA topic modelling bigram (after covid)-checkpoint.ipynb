{
 "cells": [
  {
   "cell_type": "code",
   "execution_count": 1,
   "id": "b8297fd4",
   "metadata": {},
   "outputs": [
    {
     "name": "stderr",
     "output_type": "stream",
     "text": [
      "[nltk_data] Downloading package stopwords to\n",
      "[nltk_data]     C:\\Users\\Shawn\\AppData\\Roaming\\nltk_data...\n",
      "[nltk_data]   Package stopwords is already up-to-date!\n"
     ]
    }
   ],
   "source": [
    "import pandas as pd\n",
    "import numpy as np  \n",
    "import re \n",
    "from pprint import pprint\n",
    "\n",
    "# Gensim for topic modeling\n",
    "import gensim\n",
    "from gensim.utils import simple_preprocess\n",
    "from gensim import matutils, models\n",
    "import gensim.corpora as corpora\n",
    "from gensim.models import CoherenceModel\n",
    "\n",
    "# NLTK\n",
    "import nltk\n",
    "nltk.download('stopwords')\n",
    "from nltk.corpus import stopwords\n",
    "from nltk.tokenize import word_tokenize\n",
    "from nltk.corpus import wordnet as wn\n",
    "from nltk.util import ngrams\n",
    "\n",
    "# spacy for lemmatization\n",
    "import spacy\n",
    "import scipy.sparse\n",
    "from spacy.lang.en import English\n",
    "nlp = spacy.load(\"en_core_web_sm\" , disable=['parser', 'ner'])\n",
    "\n",
    "# Plotting tools\n",
    "import pyLDAvis\n",
    "import pyLDAvis.gensim_models # don't skip this\n",
    "import matplotlib.pyplot as plt\n",
    "%matplotlib inline\n",
    "\n",
    "import warnings\n",
    "warnings.filterwarnings('ignore')\n"
   ]
  },
  {
   "cell_type": "code",
   "execution_count": 2,
   "id": "bca87f63",
   "metadata": {},
   "outputs": [],
   "source": [
    "#!pip install https://github.com/explosion/spacy-models/releases/download/en_core_web_sm-3.0.0/en_core_web_sm-3.0.0.tar.gz\n",
    "#!pip install pyLDAvis"
   ]
  },
  {
   "cell_type": "code",
   "execution_count": 3,
   "id": "8682b75c",
   "metadata": {},
   "outputs": [],
   "source": [
    "df = pd.read_csv('../aftercovid.csv')\n",
    "df[\"Year\"] = df[\"Date\"].str.split(\"-\").str[2]"
   ]
  },
  {
   "cell_type": "code",
   "execution_count": 4,
   "id": "1e0265c6",
   "metadata": {},
   "outputs": [
    {
     "data": {
      "text/plain": [
       "20    7310\n",
       "21    5721\n",
       "22    2427\n",
       "Name: Year, dtype: int64"
      ]
     },
     "execution_count": 4,
     "metadata": {},
     "output_type": "execute_result"
    }
   ],
   "source": [
    "df[\"Year\"].value_counts()"
   ]
  },
  {
   "cell_type": "code",
   "execution_count": 5,
   "id": "ce1eea16",
   "metadata": {},
   "outputs": [],
   "source": [
    "df_assigned = df"
   ]
  },
  {
   "cell_type": "code",
   "execution_count": 6,
   "id": "b09e8693",
   "metadata": {},
   "outputs": [
    {
     "data": {
      "text/html": [
       "<div>\n",
       "<style scoped>\n",
       "    .dataframe tbody tr th:only-of-type {\n",
       "        vertical-align: middle;\n",
       "    }\n",
       "\n",
       "    .dataframe tbody tr th {\n",
       "        vertical-align: top;\n",
       "    }\n",
       "\n",
       "    .dataframe thead th {\n",
       "        text-align: right;\n",
       "    }\n",
       "</style>\n",
       "<table border=\"1\" class=\"dataframe\">\n",
       "  <thead>\n",
       "    <tr style=\"text-align: right;\">\n",
       "      <th></th>\n",
       "      <th>Date</th>\n",
       "      <th>text</th>\n",
       "      <th>Year</th>\n",
       "      <th>Month</th>\n",
       "      <th>clean_text</th>\n",
       "      <th>join_clean_text</th>\n",
       "      <th>real_Date</th>\n",
       "    </tr>\n",
       "  </thead>\n",
       "  <tbody>\n",
       "    <tr>\n",
       "      <th>0</th>\n",
       "      <td>26-Nov-20</td>\n",
       "      <td>A freehold semi-detached house at 61 Jalan Kel...</td>\n",
       "      <td>20</td>\n",
       "      <td>Nov</td>\n",
       "      <td>['freehold', 'semi', 'detached', 'house', '61'...</td>\n",
       "      <td>freehold semi detached house 61 jalan kelawar ...</td>\n",
       "      <td>2020-11-26</td>\n",
       "    </tr>\n",
       "    <tr>\n",
       "      <th>1</th>\n",
       "      <td>23-Nov-20</td>\n",
       "      <td>A 4,822 sq ft unit at luxury condo, Nassim Par...</td>\n",
       "      <td>20</td>\n",
       "      <td>Nov</td>\n",
       "      <td>['4', '822', 'sq', 'ft', 'unit', 'luxury', 'na...</td>\n",
       "      <td>4 822 sq ft unit luxury nassim park residences...</td>\n",
       "      <td>2020-11-23</td>\n",
       "    </tr>\n",
       "    <tr>\n",
       "      <th>2</th>\n",
       "      <td>22-Nov-20</td>\n",
       "      <td>vinz said:\\r\\nWrote to HDB in OCT 2020 to get ...</td>\n",
       "      <td>20</td>\n",
       "      <td>Nov</td>\n",
       "      <td>['vinz', 'wrote', 'hdb', 'oct', '2020', 'get',...</td>\n",
       "      <td>vinz wrote hdb oct 2020 get confirmation eligi...</td>\n",
       "      <td>2020-11-22</td>\n",
       "    </tr>\n",
       "    <tr>\n",
       "      <th>3</th>\n",
       "      <td>18-Nov-20</td>\n",
       "      <td>Wrote to HDB in OCT 2020 to get a confirmation...</td>\n",
       "      <td>20</td>\n",
       "      <td>Nov</td>\n",
       "      <td>['wrote', 'hdb', 'oct', '2020', 'get', 'confir...</td>\n",
       "      <td>wrote hdb oct 2020 get confirmation eligibilit...</td>\n",
       "      <td>2020-11-18</td>\n",
       "    </tr>\n",
       "    <tr>\n",
       "      <th>4</th>\n",
       "      <td>29-Oct-20</td>\n",
       "      <td>Depends on if you need the space or not ?\\r\\nT...</td>\n",
       "      <td>20</td>\n",
       "      <td>Oct</td>\n",
       "      <td>['depends', 'need', 'space', 'rules', 'changed...</td>\n",
       "      <td>depends need space rules changed last year usa...</td>\n",
       "      <td>2020-10-29</td>\n",
       "    </tr>\n",
       "    <tr>\n",
       "      <th>...</th>\n",
       "      <td>...</td>\n",
       "      <td>...</td>\n",
       "      <td>...</td>\n",
       "      <td>...</td>\n",
       "      <td>...</td>\n",
       "      <td>...</td>\n",
       "      <td>...</td>\n",
       "    </tr>\n",
       "    <tr>\n",
       "      <th>15453</th>\n",
       "      <td>30-Nov-20</td>\n",
       "      <td>A four-storey shophouse at 11 New Bridge Road ...</td>\n",
       "      <td>20</td>\n",
       "      <td>Nov</td>\n",
       "      <td>['four', 'storey', 'shophouse', '11', 'new', '...</td>\n",
       "      <td>four storey shophouse 11 new bridge road marke...</td>\n",
       "      <td>2020-11-30</td>\n",
       "    </tr>\n",
       "    <tr>\n",
       "      <th>15454</th>\n",
       "      <td>29-Nov-20</td>\n",
       "      <td>The price of 1 bedder in D19 for example, pric...</td>\n",
       "      <td>20</td>\n",
       "      <td>Nov</td>\n",
       "      <td>['price', '1', 'bedder', 'd19', 'example', 'pr...</td>\n",
       "      <td>price 1 bedder d19 example price around 750 85...</td>\n",
       "      <td>2020-11-29</td>\n",
       "    </tr>\n",
       "    <tr>\n",
       "      <th>15455</th>\n",
       "      <td>25-Nov-20</td>\n",
       "      <td>angrymonster said:\\n324k to 397k\\n\\nStack 123 ...</td>\n",
       "      <td>20</td>\n",
       "      <td>Nov</td>\n",
       "      <td>['angrymonster', '324k', '397k', 'stack', '123...</td>\n",
       "      <td>angrymonster 324k 397k stack 123 top floor sta...</td>\n",
       "      <td>2020-11-25</td>\n",
       "    </tr>\n",
       "    <tr>\n",
       "      <th>15456</th>\n",
       "      <td>25-Nov-20</td>\n",
       "      <td>Is it true that top floor units are taller in ...</td>\n",
       "      <td>20</td>\n",
       "      <td>Nov</td>\n",
       "      <td>['true', 'top', 'floor', 'units', 'taller', 'h...</td>\n",
       "      <td>true top floor units taller height floor plan ...</td>\n",
       "      <td>2020-11-25</td>\n",
       "    </tr>\n",
       "    <tr>\n",
       "      <th>15457</th>\n",
       "      <td>27-Nov-20</td>\n",
       "      <td>Two adjoining shophouses at 44 &amp; 46 Bukit Paso...</td>\n",
       "      <td>20</td>\n",
       "      <td>Nov</td>\n",
       "      <td>['two', 'adjoining', 'shophouses', '44', '46',...</td>\n",
       "      <td>two adjoining shophouses 44 46 bukit pasoh mar...</td>\n",
       "      <td>2020-11-27</td>\n",
       "    </tr>\n",
       "  </tbody>\n",
       "</table>\n",
       "<p>15458 rows × 7 columns</p>\n",
       "</div>"
      ],
      "text/plain": [
       "            Date                                               text Year  \\\n",
       "0      26-Nov-20  A freehold semi-detached house at 61 Jalan Kel...   20   \n",
       "1      23-Nov-20  A 4,822 sq ft unit at luxury condo, Nassim Par...   20   \n",
       "2      22-Nov-20  vinz said:\\r\\nWrote to HDB in OCT 2020 to get ...   20   \n",
       "3      18-Nov-20  Wrote to HDB in OCT 2020 to get a confirmation...   20   \n",
       "4      29-Oct-20  Depends on if you need the space or not ?\\r\\nT...   20   \n",
       "...          ...                                                ...  ...   \n",
       "15453  30-Nov-20  A four-storey shophouse at 11 New Bridge Road ...   20   \n",
       "15454  29-Nov-20  The price of 1 bedder in D19 for example, pric...   20   \n",
       "15455  25-Nov-20  angrymonster said:\\n324k to 397k\\n\\nStack 123 ...   20   \n",
       "15456  25-Nov-20  Is it true that top floor units are taller in ...   20   \n",
       "15457  27-Nov-20  Two adjoining shophouses at 44 & 46 Bukit Paso...   20   \n",
       "\n",
       "      Month                                         clean_text  \\\n",
       "0       Nov  ['freehold', 'semi', 'detached', 'house', '61'...   \n",
       "1       Nov  ['4', '822', 'sq', 'ft', 'unit', 'luxury', 'na...   \n",
       "2       Nov  ['vinz', 'wrote', 'hdb', 'oct', '2020', 'get',...   \n",
       "3       Nov  ['wrote', 'hdb', 'oct', '2020', 'get', 'confir...   \n",
       "4       Oct  ['depends', 'need', 'space', 'rules', 'changed...   \n",
       "...     ...                                                ...   \n",
       "15453   Nov  ['four', 'storey', 'shophouse', '11', 'new', '...   \n",
       "15454   Nov  ['price', '1', 'bedder', 'd19', 'example', 'pr...   \n",
       "15455   Nov  ['angrymonster', '324k', '397k', 'stack', '123...   \n",
       "15456   Nov  ['true', 'top', 'floor', 'units', 'taller', 'h...   \n",
       "15457   Nov  ['two', 'adjoining', 'shophouses', '44', '46',...   \n",
       "\n",
       "                                         join_clean_text   real_Date  \n",
       "0      freehold semi detached house 61 jalan kelawar ...  2020-11-26  \n",
       "1      4 822 sq ft unit luxury nassim park residences...  2020-11-23  \n",
       "2      vinz wrote hdb oct 2020 get confirmation eligi...  2020-11-22  \n",
       "3      wrote hdb oct 2020 get confirmation eligibilit...  2020-11-18  \n",
       "4      depends need space rules changed last year usa...  2020-10-29  \n",
       "...                                                  ...         ...  \n",
       "15453  four storey shophouse 11 new bridge road marke...  2020-11-30  \n",
       "15454  price 1 bedder d19 example price around 750 85...  2020-11-29  \n",
       "15455  angrymonster 324k 397k stack 123 top floor sta...  2020-11-25  \n",
       "15456  true top floor units taller height floor plan ...  2020-11-25  \n",
       "15457  two adjoining shophouses 44 46 bukit pasoh mar...  2020-11-27  \n",
       "\n",
       "[15458 rows x 7 columns]"
      ]
     },
     "execution_count": 6,
     "metadata": {},
     "output_type": "execute_result"
    }
   ],
   "source": [
    "df_assigned = df_assigned.reset_index(drop=True)\n",
    "df_assigned"
   ]
  },
  {
   "cell_type": "markdown",
   "id": "332fbd19",
   "metadata": {},
   "source": [
    "# Data cleaning"
   ]
  },
  {
   "cell_type": "code",
   "execution_count": 7,
   "id": "5ea3d5e6",
   "metadata": {},
   "outputs": [],
   "source": [
    "# Remove non-English words\n",
    "\n",
    "# remove punc \n",
    "df_assigned['clean_text']  = df_assigned['join_clean_text'].map(lambda x: re.sub(\"[^A-Za-z0-9]+\",\" \", (x)))\n",
    "# lower case\n",
    "df_assigned['clean_text']  = df_assigned['clean_text'].apply(lambda x: x.lower())\n",
    "# tokenize\n",
    "df_assigned['clean_text']  = [word_tokenize(row) for row in df_assigned['clean_text']]\n",
    "# remove stopwords\n",
    "stop_words = stopwords.words('english')\n",
    "new_stop_words = ['u','m','lol','condo','said','also',\"click\",\"expand\",\"http\",\"www\",\"com\",\"https\",'from', 'subject', 're', 'edu', 'use','r']\n",
    "stop_words.extend(new_stop_words)\n",
    "def remove_stopwords(text):\n",
    "    return [w for w in text if w not in stop_words]\n",
    "df_assigned['clean_text']  = df_assigned['clean_text'].apply(lambda x: remove_stopwords(x))\n",
    "\n",
    "# create bigram\n",
    "def make_bigrams(texts):\n",
    "    texts = [\"_\".join(w) for w in ngrams(texts, 2)]\n",
    "    return texts\n",
    "\n",
    "data_words = df_assigned[\"clean_text\"].tolist()\n",
    "bigram = gensim.models.Phrases(data_words, min_count=5, threshold=100)\n",
    "bigram_mod = gensim.models.phrases.Phraser(bigram)\n",
    "df_assigned['clean_text'] = df_assigned['clean_text'].apply(lambda x: make_bigrams(x))"
   ]
  },
  {
   "cell_type": "code",
   "execution_count": 8,
   "id": "945e4764",
   "metadata": {},
   "outputs": [],
   "source": [
    "# avoided lemmatization for bigram as the results are more interesting without generating words like 4rooms within1km which are not included in the allowed postags\n",
    "# lemmatization\n",
    "# def lemmatization(texts, allowed_postags=['NOUN', 'ADJ', 'VERB', 'ADV']):\n",
    "#     texts_out = []\n",
    "#     print(texts[0])\n",
    "#     doc = nlp(' '.join(str(v) for v in texts)) \n",
    "#     for token in doc:\n",
    "#         if token.pos_ in allowed_postags:\n",
    "#             texts_out.append(token.lemma_)\n",
    "\n",
    "#     return texts_out\n",
    "\n",
    "# df_assigned['clean_text'] = df_assigned['clean_text'].head().apply(lambda x: lemmatization(x))"
   ]
  },
  {
   "cell_type": "code",
   "execution_count": 9,
   "id": "a65cfbd8",
   "metadata": {},
   "outputs": [],
   "source": [
    "# Import the wordcloud library\n",
    "from wordcloud import WordCloud\n",
    "\n",
    "# Join the different processed texts together\n",
    "description_str = ''\n",
    "for word_list in df_assigned['clean_text'].values:\n",
    "    try:\n",
    "        description_str += ' '.join(row for row in word_list) + ' '\n",
    "    except:\n",
    "        print(word_list)"
   ]
  },
  {
   "cell_type": "code",
   "execution_count": 10,
   "id": "81d0bb8d",
   "metadata": {},
   "outputs": [
    {
     "data": {
      "image/png": "[encoded data removed]",
      "text/plain": [
       "<Figure size 432x288 with 1 Axes>"
      ]
     },
     "metadata": {
      "needs_background": "light"
     },
     "output_type": "display_data"
    }
   ],
   "source": [
    "new_stop_words = stopwords.words('english')\n",
    "# new_stop_words += ['recipe','time', 'dish']\n",
    "\n",
    "# Create a WordCloud object\n",
    "wordcloud = WordCloud(background_color=\"white\", max_words=1000, contour_width=3, stopwords = new_stop_words,\n",
    "                      contour_color='steelblue', collocations = False,  random_state=1)\n",
    "\n",
    "# Generate a word cloud\n",
    "wordcloud.generate(description_str)\n",
    "\n",
    "# Visualize the word cloud\n",
    "# wordcloud.to_file(\"wordcloud_before_covid.png\")\n",
    "\n",
    "plt.imshow(wordcloud, interpolation='bilinear')\n",
    "plt.axis(\"off\")\n",
    "plt.show()"
   ]
  },
  {
   "cell_type": "markdown",
   "id": "cafdc37f",
   "metadata": {},
   "source": [
    "# Topic Modeling for Text\n"
   ]
  },
  {
   "cell_type": "markdown",
   "id": "9c0390e6",
   "metadata": {},
   "source": [
    "## Create Corpus "
   ]
  },
  {
   "cell_type": "code",
   "execution_count": 11,
   "id": "ca5ef94a",
   "metadata": {},
   "outputs": [
    {
     "name": "stdout",
     "output_type": "stream",
     "text": [
      "[['4_822', '822_sq', 'sq_ft', 'ft_unit', 'unit_luxury', 'luxury_nassim', 'nassim_park', 'park_residences', 'residences_put', 'put_market', 'market_price', 'price_tag', 'tag_upwards', 'upwards_13', '13_98', '98_million', 'million_2', '2_899', '899_psf', 'psf_edgeprop', 'edgeprop_sg', 'sg_property', 'property_ne', 'ne_arezone', 'arezone_utm', 'utm_medium', 'medium_utm', 'utm_campaign', 'campaign_forumposting'], ['vinz_wrote', 'wrote_hdb', 'hdb_oct', 'oct_2020', '2020_get', 'get_confirmation', 'confirmation_eligibility', 'eligibility_apply', 'apply_bto', 'bto_current', 'current_resale', 'resale_flat', 'flat_without', 'without_grant', 'grant_taking', 'taking_keys', 'keys_new', 'new_flat', 'flat_mop', 'mop_current', 'current_resale', 'resale_flat', 'flat_without', 'without_grant', 'grant_ding', 'ding_dong', 'dong_conclusion', 'conclusion_7th', '7th_oct', 'oct_2020', '2020_email', 'email_hdb', 'hdb_checking', 'checking_whether', 'whether_couple', 'couple_bought', 'bought_resale', 'resale_flat', 'flat_without', 'without_grant', 'grant_year', 'year_2018', '2018_jan', 'jan_eligible', 'eligible_apply', 'apply_coming', 'coming_bto', 'bto_november', 'november_2020', '2020_probable', 'probable_completion', 'completion_date', 'date_2024', '2024_reason', 'reason_write', 'write_course', 'course_mentioned', 'mentioned_new', 'new_flats', 'flats_ready', 'ready_existing', 'existing_flat', 'flat_mop', 'mop_online', 'online_forum', 'forum_discussion', 'discussion_know', 'know_along', 'along_matter', 'matter_grant', 'grant_grant', 'grant_existing', 'existing_hdb', 'hdb_resale', 'resale_flat', 'flat_application', 'application_next', 'next_bto', 'bto_new', 'new_ec', 'ec_take', 'take_place', 'place_5', '5_years', 'years_please', 'please_clear', 'clear_doubts', 'doubts_matter', 'matter_sop', 'sop_reply', 'reply_without', 'without_answering', 'answering_important', 'important_part', 'part_question', 'question_finally', 'finally_got', 'got_hdb', 'hdb_reply', 'reply_enquiry', 'enquiry_buying', 'buying_flat', 'flat_hdb', 'hdb_dear', 'dear_mr', 'mr_xxx', 'xxx_refer', 'refer_enquiry', 'enquiry_16', '16_oct', 'oct_2020', '2020_2', '2_shared', 'shared_previous', 'previous_reply', 'reply_one', 'one_eligibility', 'eligibility_conditions', 'conditions_flat', 'flat_applicants', 'applicants_occupiers', 'occupiers_vinz', 'vinz_odd', 'odd_27', '27_august', 'august_2020', '2020_got', 'got_following', 'following_reply', 'reply_hdb', 'hdb_asking', 'asking_thing', 'thing_owners', 'owners_non', 'non_subsidised', 'subsidised_resale', 'resale_flat', 'flat_bought', 'bought_open', 'open_market', 'market_fulfil', 'fulfil_minimum', 'minimum_occupation', 'occupation_period', 'period_mop', 'mop_5', '5_years', 'years_allowed', 'allowed_sell', 'sell_flat', 'flat_wish', 'wish_buy', 'buy_flat', 'flat_hdb', 'hdb_allowed', 'allowed_apply', 'apply_uncompleted', 'uncompleted_flat', 'flat_estimated', 'estimated_delivery', 'delivery_possession', 'possession_date', 'date_edpd', 'edpd_expiry', 'expiry_5', '5_year', 'year_mop', 'mop_existing', 'existing_resale', 'resale_flat', 'flat_5', '5_year', 'year_period', 'period_computed', 'computed_date', 'date_taking', 'taking_possession', 'possession_resale', 'resale_flat', 'flat_edpd', 'edpd_new', 'new_hdb', 'hdb_flat', 'flat_period', 'period_renting', 'renting_resale', 'resale_flat', 'flat_excluded', 'excluded_computation', 'computation_5', '5_year', 'year_mop']]\n"
     ]
    }
   ],
   "source": [
    "data_lemmatized = df_assigned['clean_text'].tolist()\n",
    "print(data_lemmatized[1:3])"
   ]
  },
  {
   "cell_type": "code",
   "execution_count": 12,
   "id": "3e770fa7",
   "metadata": {},
   "outputs": [
    {
     "name": "stdout",
     "output_type": "stream",
     "text": [
      "[[(0, 1), (1, 1), (2, 1), (3, 1), (4, 1), (5, 1), (6, 1), (7, 1), (8, 1), (9, 1), (10, 1), (11, 1), (12, 1), (13, 1), (14, 1), (15, 1), (16, 1), (17, 1), (18, 1), (19, 1), (20, 1), (21, 2), (22, 1), (23, 1), (24, 1), (25, 1), (26, 1), (27, 1), (28, 1), (29, 1), (30, 1), (31, 1), (32, 1), (33, 1), (34, 1), (35, 1), (36, 1), (37, 1), (38, 1), (39, 1), (40, 1), (41, 1), (42, 1), (43, 1), (44, 1), (45, 1), (46, 1), (47, 1), (48, 1), (49, 1)]]\n"
     ]
    }
   ],
   "source": [
    "# Create Dictionary\n",
    "id2word = corpora.Dictionary(data_lemmatized)\n",
    "# Filter out tokens that appear in only 1 documents and appear in more than 90% of the documents\n",
    "id2word.filter_extremes(no_below=2, no_above=0.9)\n",
    "# Create Corpus\n",
    "texts = data_lemmatized\n",
    "# Term Document Frequency\n",
    "corpus = [id2word.doc2bow(text) for text in texts]\n",
    "\n",
    "print(corpus[:1])"
   ]
  },
  {
   "cell_type": "code",
   "execution_count": 13,
   "id": "07bdf330",
   "metadata": {},
   "outputs": [
    {
     "name": "stdout",
     "output_type": "stream",
     "text": [
      "Sample word to id mappings:\n",
      " [(0, '100_sq'), (1, '2_500'), (2, '3_100'), (3, '500_psf'), (4, '61_jalan'), (5, '7_84'), (6, '84_million'), (7, 'agent_sale'), (8, 'appointed_estate'), (9, 'arezone_utm'), (10, 'asking_price'), (11, 'campaign_forumposting'), (12, 'detached_house'), (13, 'edgeprop_sg'), (14, 'estate_sole'), (15, 'frank_singapore'), (16, 'freehold_semi'), (17, 'frontage_jalan'), (18, 'ft_nine'), (19, 'house_61'), (20, 'house_sits'), (21, 'jalan_kelawar'), (22, 'kelawar_asking'), (23, 'kelawar_market'), (24, 'knight_frank'), (25, 'land_rate'), (26, 'market_7'), (27, 'marketing_agent'), (28, 'medium_utm'), (29, 'metre_frontage'), (30, 'million_knight'), (31, 'ne_arezone'), (32, 'nine_metre'), (33, 'plot_3'), (34, 'price_translates'), (35, 'property_ne'), (36, 'psf_edgeprop'), (37, 'rate_2'), (38, 'sale_two'), (39, 'semi_detached'), (40, 'sg_property'), (41, 'singapore_appointed'), (42, 'sits_plot'), (43, 'sole_marketing'), (44, 'sq_ft'), (45, 'storey_house'), (46, 'translates_land'), (47, 'two_storey'), (48, 'utm_campaign'), (49, 'utm_medium')]\n",
      "\n",
      "Total Vocabulary Size: 100000\n"
     ]
    }
   ],
   "source": [
    "# Create a dictionary representation of the documents. Each word gets an id\n",
    "print('Sample word to id mappings:\\n', list(id2word.items())[:50])\n",
    "print()\n",
    "print('Total Vocabulary Size:', len(id2word))"
   ]
  },
  {
   "cell_type": "markdown",
   "id": "1222654a",
   "metadata": {},
   "source": [
    "## Building LDA Model"
   ]
  },
  {
   "cell_type": "markdown",
   "id": "7af70cef",
   "metadata": {},
   "source": [
    "### Hyperparameter Tuning for LDA Model"
   ]
  },
  {
   "cell_type": "code",
   "execution_count": 14,
   "id": "f3f6e5b4",
   "metadata": {},
   "outputs": [],
   "source": [
    "# supporting function\n",
    "def compute_evaluation_values(corpus, dictionary, k):\n",
    "    \n",
    "    lda_model = gensim.models.LdaMulticore(corpus=corpus,\n",
    "                                           id2word=id2word,\n",
    "                                           num_topics=k, \n",
    "                                           random_state=100,\n",
    "                                           chunksize=100,\n",
    "                                           passes=20,\n",
    "                                           per_word_topics=True)\n",
    "    \n",
    "    coherence_model_lda = CoherenceModel(model=lda_model, texts=data_lemmatized, dictionary=id2word, coherence='c_v')\n",
    "    perplexity = lda_model.log_perplexity(corpus)\n",
    "    \n",
    "    return [coherence_model_lda.get_coherence(), perplexity]"
   ]
  },
  {
   "cell_type": "code",
   "execution_count": null,
   "id": "cf99ff50",
   "metadata": {
    "scrolled": true
   },
   "outputs": [
    {
     "name": "stdout",
     "output_type": "stream",
     "text": [
      "topic number:  2\n"
     ]
    }
   ],
   "source": [
    "# Iterate over possible number of topics.\n",
    "topic_param = []\n",
    "coherence_score = []\n",
    "perplexity_score = []\n",
    "\n",
    "for k in range(2, 20):\n",
    "    print('topic number: ', k)\n",
    "    ev = compute_evaluation_values(corpus=corpus, dictionary=id2word, k=k)\n",
    "    coherence_score.append(ev[0])\n",
    "    perplexity_score.append(ev[1])\n",
    "    print('Coherence Score: ', ev[0])\n",
    "    print('Perplexity Score: ', ev[1])\n",
    "    print()\n",
    "    \n",
    "    topic_param.append(k)"
   ]
  },
  {
   "cell_type": "code",
   "execution_count": null,
   "id": "c07966a4",
   "metadata": {
    "scrolled": false
   },
   "outputs": [],
   "source": [
    "# Show graph\n",
    "plt.figure(figsize=(16, 8))\n",
    "plt.plot(topic_param, coherence_score)\n",
    "\n",
    "plt.title(\"Choosing Optimal LDA Model\")\n",
    "plt.xlabel(\"Num Topics\")\n",
    "plt.ylabel(\"Coherence Scores\")\n",
    "plt.show()"
   ]
  },
  {
   "cell_type": "markdown",
   "id": "97b0cefc",
   "metadata": {},
   "source": [
    "### Final LDA Model"
   ]
  },
  {
   "cell_type": "code",
   "execution_count": null,
   "id": "5abaf3ce",
   "metadata": {},
   "outputs": [],
   "source": [
    "ntopics_des_name = 10\n",
    "\n",
    "lda_model_des_name = gensim.models.LdaMulticore(corpus=corpus,\n",
    "                                       id2word=id2word,\n",
    "                                       num_topics=ntopics_des_name, \n",
    "                                       random_state=100,\n",
    "                                       chunksize=100,\n",
    "                                       passes=20,\n",
    "                                       per_word_topics=True)"
   ]
  },
  {
   "cell_type": "code",
   "execution_count": null,
   "id": "bc532091",
   "metadata": {
    "scrolled": true
   },
   "outputs": [],
   "source": [
    "# Print the Keyword in the topics\n",
    "pprint(lda_model_des_name.print_topics())\n",
    "doc_lda = lda_model_des_name[corpus]"
   ]
  },
  {
   "cell_type": "code",
   "execution_count": null,
   "id": "a997d9d7",
   "metadata": {},
   "outputs": [],
   "source": [
    "def Sort_Tuple(tup):  \n",
    "    return(sorted(tup, key = lambda x: x[1], reverse = True))"
   ]
  },
  {
   "cell_type": "code",
   "execution_count": null,
   "id": "68290001",
   "metadata": {
    "scrolled": true
   },
   "outputs": [],
   "source": [
    "topic_num = []\n",
    "print(lda_model_des_name.get_document_topics(corpus))\n",
    "for n in range(len(df_assigned)):\n",
    "    get_document_topics = lda_model_des_name.get_document_topics(corpus[n])\n",
    "    sorted_doc_topics = Sort_Tuple(get_document_topics)\n",
    "    all_topic = []\n",
    "    for i in sorted_doc_topics:\n",
    "        all_topic.append(i[0])\n",
    "    topic_num.append(all_topic)"
   ]
  },
  {
   "cell_type": "code",
   "execution_count": null,
   "id": "c0b96924",
   "metadata": {},
   "outputs": [],
   "source": [
    "df_assigned['Topic'] = topic_num"
   ]
  },
  {
   "cell_type": "code",
   "execution_count": null,
   "id": "fb28a3de",
   "metadata": {},
   "outputs": [],
   "source": [
    "des_name_final = df_assigned[['Date', 'text', 'clean_text', 'Topic']]\n",
    "des_name_final.head()"
   ]
  },
  {
   "cell_type": "code",
   "execution_count": null,
   "id": "cc602a2a",
   "metadata": {},
   "outputs": [],
   "source": [
    "# des_name_final.to_csv('description_name_features_final_all_noun.csv', index=False) "
   ]
  },
  {
   "cell_type": "markdown",
   "id": "f65f3017",
   "metadata": {},
   "source": [
    "### Model Evaluation"
   ]
  },
  {
   "cell_type": "code",
   "execution_count": null,
   "id": "f3cb5cba",
   "metadata": {},
   "outputs": [],
   "source": [
    "# Compute Perplexity\n",
    "perplexity = lda_model_des_name.log_perplexity(corpus)\n",
    "print('Perplexity: ', perplexity)  # a measure of how good the model is. lower the better.\n",
    "\n",
    "# Compute Coherence Score\n",
    "coherence_model_lda = CoherenceModel(model=lda_model_des_name, texts=data_lemmatized, dictionary=id2word, coherence='c_v')\n",
    "coherence_lda = coherence_model_lda.get_coherence()\n",
    "print('Coherence Score: ', coherence_lda)"
   ]
  },
  {
   "cell_type": "markdown",
   "id": "224ec288",
   "metadata": {},
   "source": [
    "## Visualisation"
   ]
  },
  {
   "cell_type": "code",
   "execution_count": null,
   "id": "bd5e86f9",
   "metadata": {},
   "outputs": [],
   "source": [
    "import pyLDAvis\n",
    "import pyLDAvis.gensim_models as gensimvis\n",
    "pyLDAvis.enable_notebook()\n",
    "\n",
    "# # feed the LDA model into the pyLDAvis instance\n",
    "# lda_viz = gensimvis.prepare(ldamodel, corpus, dictionary)"
   ]
  },
  {
   "cell_type": "code",
   "execution_count": null,
   "id": "428df65f",
   "metadata": {},
   "outputs": [],
   "source": [
    "# Visualize the topics\n",
    "pyLDAvis.enable_notebook()\n",
    "vis = gensimvis.prepare(lda_model_des_name, corpus, id2word)\n",
    "vis"
   ]
  },
  {
   "cell_type": "markdown",
   "id": "1140c38b",
   "metadata": {},
   "source": [
    "## Word Count of Topic Keywords"
   ]
  },
  {
   "cell_type": "code",
   "execution_count": null,
   "id": "36985c17",
   "metadata": {
    "scrolled": false
   },
   "outputs": [],
   "source": [
    "from collections import Counter\n",
    "\n",
    "topics = lda_model_des_name.show_topics(num_topics=ntopics_des_name, formatted=False)\n",
    "data_flat = [w for w_list in data_lemmatized for w in w_list]\n",
    "counter = Counter(data_flat)\n",
    "\n",
    "out = []\n",
    "for i, topic in topics:\n",
    "    for word, weight in topic:\n",
    "        out.append([word, i , weight, counter[word]])\n",
    "\n",
    "df = pd.DataFrame(out, columns=['word', 'topic_id', 'importance', 'word_count'])        \n",
    "\n",
    "# Plot Word Count and Weights of Topic Keywords\n",
    "fig, axes = plt.subplots(5, 2, figsize=(10,15), dpi=160,facecolor='white')\n",
    "cols = ['#008080', '#A52A2A', '#DC143C', '#800000', '#006400', '#556b2f', '#002366', '#ff8c00', '#FF1493', '#9400D3',\n",
    "        '#ba55d3', '#b8860b', '#C71585', '#00ff7f', '#00004C', '#00008B', '#B8860B', '#DEB887', '#8A2BE2', '#1b364a']\n",
    "\n",
    "for i, ax in enumerate(axes.flatten()):\n",
    "    if i > ntopics_des_name - 1: # break when all topics are shown\n",
    "        break\n",
    "    ax.bar(x='word', height=\"word_count\", data=df.loc[df.topic_id==i, :], color=cols[i], width=0.5, alpha=0.3, label='Word Count')\n",
    "    ax_twin = ax.twinx()\n",
    "    ax_twin.bar(x='word', height=\"importance\", data=df.loc[df.topic_id==i, :], color=cols[i], width=0.2, label='Weights')\n",
    "    ax.set_ylabel('Word Count', color=cols[i])\n",
    "    ax.set_title('Topic: ' + str(i), color=cols[i], fontsize=16)\n",
    "    ax.tick_params(axis='y', left=False)\n",
    "    ax.set_xticklabels(df.loc[df.topic_id==i, 'word'], rotation=30, horizontalalignment= 'right')\n",
    "    ax.legend(loc='upper left'); ax_twin.legend(loc='upper right')\n",
    "\n",
    "\n",
    "fig.tight_layout(w_pad=2)    \n",
    "fig.suptitle('Word Count and Importance of Topic Keywords', fontsize=22, y=1.05)   \n",
    "plt.savefig('lda_topics_after_bigram.png',facecolor=fig.get_facecolor(), transparent=True)\n",
    "plt.show()\n"
   ]
  }
 ],
 "metadata": {
  "kernelspec": {
   "display_name": "Python 3",
   "language": "python",
   "name": "python3"
  },
  "language_info": {
   "codemirror_mode": {
    "name": "ipython",
    "version": 3
   },
   "file_extension": ".py",
   "mimetype": "text/x-python",
   "name": "python",
   "nbconvert_exporter": "python",
   "pygments_lexer": "ipython3",
   "version": "3.8.8"
  }
 },
 "nbformat": 4,
 "nbformat_minor": 5
}
