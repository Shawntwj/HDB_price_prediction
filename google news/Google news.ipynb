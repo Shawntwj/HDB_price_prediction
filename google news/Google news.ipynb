{
 "cells": [
  {
   "cell_type": "code",
   "execution_count": 1,
   "id": "4b272425",
   "metadata": {},
   "outputs": [],
   "source": [
    "# Import libraries\n",
    "\n",
    "# pip install --upgrade GoogleNews\n",
    "\n",
    "import pandas as pd\n",
    "from GoogleNews import GoogleNews # pip install GoogleNews\n",
    "from bs4 import BeautifulSoup \n",
    "from newspaper import Article # pip install newspaper3k\n",
    "from newspaper import Config\n",
    "import matplotlib.pyplot as plt\n",
    "from urllib.request import urlopen, Request\n",
    "import time\n",
    "\n",
    "user_agent = 'Mozilla/5.0 (Windows NT 10.0; Win64; x64) AppleWebKit/537.36 (KHTML, like Gecko) Chrome/93.0.4577.82 Safari/537.36'\n",
    "config = Config()\n",
    "config.browser_user_agent = user_agent"
   ]
  },
  {
   "cell_type": "code",
   "execution_count": 2,
   "id": "495925a9",
   "metadata": {},
   "outputs": [],
   "source": [
    "\n",
    "def getGoogleNewsLinks(tickers, start_date, end_date):\n",
    "\n",
    "    parsed_news = []\n",
    "    \n",
    "    googlenews=GoogleNews(start = start_date, end = end_date) #month/day/year\n",
    "\n",
    "    googlenews.search(toSearch)\n",
    "    \n",
    "    for i in range(2, 3):\n",
    "        googlenews.getpage(i)\n",
    "        result=googlenews.result()\n",
    "        df=pd.DataFrame(result)\n",
    "    \n",
    "    for ind in df.index:\n",
    "        link = df['link'][ind]\n",
    "        parsed_news.append([toSearch, link])\n",
    "    \n",
    "    return(parsed_news)"
   ]
  },
  {
   "cell_type": "code",
   "execution_count": 3,
   "id": "c40006ad",
   "metadata": {},
   "outputs": [],
   "source": [
    "def getGoogleNews(terms, start, end):\n",
    "    parsed_news = getGoogleNewsLinks(terms, start, end)\n",
    "    news_df = getArticleSummary(terms, parsed_news)\n",
    "    return(news_df)\n"
   ]
  },
  {
   "cell_type": "code",
   "execution_count": 4,
   "id": "d91acbad",
   "metadata": {},
   "outputs": [],
   "source": [
    "def getArticleSummary(terms, parsed_news):\n",
    "    \n",
    "    list=[]\n",
    "    for ind in parsed_news:\n",
    "        dicti={}\n",
    "        article = Article(ind[1],config=config)\n",
    "        try:\n",
    "            article.download()\n",
    "            article.parse()\n",
    "            article.nlp()\n",
    "            \n",
    "            if article.publish_date == None:\n",
    "                dicti['date'] = date\n",
    "            else:\n",
    "                dicti['date']= article.publish_date\n",
    "                date = article.publish_date\n",
    "            dicti['news title']=article.title\n",
    "            dicti['news source(url)']=ind[1]\n",
    "            dicti['content summary']= article.summary\n",
    "            keywords = article.keywords\n",
    "            dicti['keywords'] = \", \".join(keywords)\n",
    "            dicti['class_name'] = terms\n",
    "            dicti['full Article ']= article.text[:1000]\n",
    "            list.append(dicti)\n",
    "        except:\n",
    "            pass\n",
    "    news_df=pd.DataFrame(list)\n",
    "    return(news_df)"
   ]
  },
  {
   "cell_type": "code",
   "execution_count": null,
   "id": "a7d2ec6f",
   "metadata": {},
   "outputs": [
    {
     "name": "stdout",
     "output_type": "stream",
     "text": [
      "done: month 1\n",
      "done: month 2\n"
     ]
    }
   ],
   "source": [
    "# prevent error429 by working with batches (per month)\n",
    "# time_period = {1: ['01/01/2021', '01/31/2021'],\n",
    "#               2: ['02/01/2021', '02/28/2021'],\n",
    "#               3: ['03/01/2021', '03/31/2021'],\n",
    "#               4: ['04/01/2021', '04/30/2021'],\n",
    "#               5: ['05/01/2021', '05/31/2021'],\n",
    "#               6: ['06/01/2021', '06/30/2021'],\n",
    "#               7: ['07/01/2021', '07/31/2021'],\n",
    "#               8: ['08/01/2021', '08/31/2021'],\n",
    "#               9: ['09/01/2021', '09/30/2021'],\n",
    "#               10: ['10/01/2021', '10/30/2021'],\n",
    "#               11: ['11/01/2021', '11/30/2021'],\n",
    "#               12: ['12/01/2021', '12/30/2021']}\n",
    "\n",
    "time_period = {1: ['01/01/2022', '01/31/2022'],\n",
    "              2: ['02/01/2022', '02/28/2022'],\n",
    "              3: ['03/01/2022', '03/31/2022'],}\n",
    "\n",
    "search = [\n",
    "    \"Yishun\"\n",
    " ]\n",
    "\n",
    "for toSearch in search:\n",
    "    google_news_df = []\n",
    "    for month_index in time_period: #change the range if from whenever it stopped at\n",
    "        start_date, end_date = time_period[month_index][0], time_period[month_index][1]\n",
    "        google_news_by_time_period = getGoogleNews(toSearch, start_date, end_date) # returns df\n",
    "        google_news_df.append(google_news_by_time_period)\n",
    "        print(f'done: month {month_index}')\n",
    "    print('done',toSearch)\n",
    "\n",
    "    google_news = pd.concat(google_news_df, ignore_index=True)\n",
    "    google_news.to_csv(f\"{toSearch}_googleNews.csv\")\n"
   ]
  },
  {
   "cell_type": "code",
   "execution_count": null,
   "id": "9aba3dd6",
   "metadata": {},
   "outputs": [],
   "source": [
    "google_news.to_csv(\"yishun_googleNews.csv\")"
   ]
  },
  {
   "cell_type": "code",
   "execution_count": null,
   "id": "384c166c",
   "metadata": {},
   "outputs": [],
   "source": [
    "google_news_df[1].to_csv(\"yishun_googleNews.csv\",encoding=\"utf_8\")"
   ]
  },
  {
   "cell_type": "code",
   "execution_count": null,
   "id": "d292daf3",
   "metadata": {},
   "outputs": [],
   "source": [
    "google_news_df[1].iloc[11,6]"
   ]
  }
 ],
 "metadata": {
  "kernelspec": {
   "display_name": "Python 3",
   "language": "python",
   "name": "python3"
  },
  "language_info": {
   "codemirror_mode": {
    "name": "ipython",
    "version": 3
   },
   "file_extension": ".py",
   "mimetype": "text/x-python",
   "name": "python",
   "nbconvert_exporter": "python",
   "pygments_lexer": "ipython3",
   "version": "3.8.8"
  }
 },
 "nbformat": 4,
 "nbformat_minor": 5
}
