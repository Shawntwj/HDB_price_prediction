{
 "cells": [
  {
   "cell_type": "markdown",
   "metadata": {},
   "source": [
    "# Lab 4: Clustering (K-Means)"
   ]
  },
  {
   "cell_type": "markdown",
   "metadata": {},
   "source": [
    "**Instructions:**\n",
    "\n",
    "- Make sure your codes can be tested by our TAs or instructors through a simple \"click\" before submission. You can submit a readme file if needed.\n",
    "\n",
    "- Your submission file should be titled \"IS424 Lab 4 - Clustering \" followed by your name, and SMU email id. Submit it on the elearn assignment folder before the stated deadline.\n",
    "\n",
    "- **VERY IMPORTANT: This assignment must be your independent effort. You SHOULD NOT collaborate with others. Supporting or indulging in plagiarism is a violation of academic policy and any such attempts will lead to strict disciplinary action.**"
   ]
  },
  {
   "cell_type": "markdown",
   "metadata": {},
   "source": [
    "**Learning Objectives:**\n",
    "\n",
    "This lab assignment aims to familiarize you with some of the clustering techniques that you have learnt in the course. \n",
    "By the end of this lab, students will be familiar with the following concepts:\n",
    "1.\tK-Means Clustering using Python (sklearn).\n",
    "2.\tEffect of Standardization on clustering\n",
    "3.\tVisualizing different number of clusters for the same dataset"
   ]
  },
  {
   "cell_type": "code",
   "execution_count": null,
   "metadata": {
    "ExecuteTime": {
     "end_time": "2020-03-01T12:16:32.016425Z",
     "start_time": "2020-03-01T12:16:30.143085Z"
    }
   },
   "outputs": [],
   "source": [
    "# Import libraries\n",
    "import numpy as np\n",
    "import pandas as pd\n",
    "import matplotlib.pyplot as plt\n",
    "import seaborn as sns"
   ]
  },
  {
   "cell_type": "markdown",
   "metadata": {},
   "source": [
    "## 1. Import Iris Dataset\n",
    "\n",
    "The Fisher Iris Dataset (https://archive.ics.uci.edu/ml/datasets/iris) will be used for this assignment."
   ]
  },
  {
   "cell_type": "code",
   "execution_count": null,
   "metadata": {
    "ExecuteTime": {
     "end_time": "2020-03-01T12:16:32.040290Z",
     "start_time": "2020-03-01T12:16:32.018349Z"
    }
   },
   "outputs": [],
   "source": [
    "iris_df = pd.read_csv('iris.data', header=None)\n",
    "iris_df.columns = ['sepal_length', 'sepal_width', 'petal_length', 'petal_width', 'species']\n",
    "iris_df.head()"
   ]
  },
  {
   "cell_type": "markdown",
   "metadata": {},
   "source": [
    "## 2. Plot Scatterplots [6 marks]"
   ]
  },
  {
   "cell_type": "markdown",
   "metadata": {},
   "source": [
    "There are 4 variables in the dataset. Plot the scatter plot of the data using the following pairs of variables (grouping them by `species`). You are free to use any visualization package of your choice. Seaborn is a good option: https://seaborn.pydata.org/generated/seaborn.scatterplot.html\n"
   ]
  },
  {
   "cell_type": "markdown",
   "metadata": {},
   "source": [
    "**a. Sepal Width `sepal_width` and Sepal Length `sepal_length`**"
   ]
  },
  {
   "cell_type": "code",
   "execution_count": null,
   "metadata": {
    "ExecuteTime": {
     "end_time": "2020-03-01T12:16:32.180881Z",
     "start_time": "2020-03-01T12:16:32.042286Z"
    }
   },
   "outputs": [],
   "source": [
    "# a. sepal_width and sepal_length\n"
   ]
  },
  {
   "cell_type": "markdown",
   "metadata": {},
   "source": [
    "**b. Petal Width `petal_width` and Sepal Length `sepal_length`**"
   ]
  },
  {
   "cell_type": "code",
   "execution_count": null,
   "metadata": {
    "ExecuteTime": {
     "end_time": "2020-03-01T12:16:32.655818Z",
     "start_time": "2020-03-01T12:16:32.477228Z"
    }
   },
   "outputs": [],
   "source": [
    "# b. petal_width and sepal_length\n"
   ]
  },
  {
   "cell_type": "markdown",
   "metadata": {},
   "source": [
    "**c. Petal Width `petal_width` and Sepal Width `sepal_width`**"
   ]
  },
  {
   "cell_type": "code",
   "execution_count": null,
   "metadata": {
    "ExecuteTime": {
     "end_time": "2020-03-01T12:16:32.816360Z",
     "start_time": "2020-03-01T12:16:32.657744Z"
    }
   },
   "outputs": [],
   "source": [
    "# c. petal_width and sepal_width\n"
   ]
  },
  {
   "cell_type": "markdown",
   "metadata": {
    "ExecuteTime": {
     "end_time": "2020-03-01T10:58:37.499179Z",
     "start_time": "2020-03-01T10:58:37.491180Z"
    }
   },
   "source": [
    "## 3. Perform K-Means Clustering [6 marks]"
   ]
  },
  {
   "cell_type": "markdown",
   "metadata": {},
   "source": [
    "Setting the number of clusters `n_clusters` to `3`, the seed `random_state` to `424`, perform clustering on the following variables **and plot the corresponding scatter plot grouped by cluster number `labels_`**. \n",
    "\n",
    "After performing clustering (`fit`ting into the model), utilise the `add_cluster_number_to_dataframe` to add the cluster numbers into a new column.\n",
    "- `add_cluster_number_to_dataframe` takes in two arguments: `model` (of type `sklearn.cluster.KMeans`) and `df` (of type `pandas.DataFrame`)\n",
    "- `add_cluster_number_to_dataframe` returns a new `DataFrame`"
   ]
  },
  {
   "cell_type": "markdown",
   "metadata": {},
   "source": [
    "Documentation: https://scikit-learn.org/stable/modules/generated/sklearn.cluster.KMeans.html"
   ]
  },
  {
   "cell_type": "code",
   "execution_count": null,
   "metadata": {},
   "outputs": [],
   "source": [
    "from sklearn.cluster import KMeans"
   ]
  },
  {
   "cell_type": "code",
   "execution_count": null,
   "metadata": {
    "ExecuteTime": {
     "end_time": "2020-03-01T12:16:32.823301Z",
     "start_time": "2020-03-01T12:16:32.818355Z"
    }
   },
   "outputs": [],
   "source": [
    "def add_cluster_number_to_dataframe(model, df):\n",
    "    df = df.copy() # Prevent adding column in-place\n",
    "    df['cluster'] = model.labels_ + 1\n",
    "    df['cluster'] = 'cluster ' + df['cluster'].astype(str)\n",
    "    df = df.sort_values(['cluster'])\n",
    "    return df"
   ]
  },
  {
   "cell_type": "markdown",
   "metadata": {},
   "source": [
    "**a. Sepal Width `sepal_width` and Sepal Length `sepal_length`**"
   ]
  },
  {
   "cell_type": "code",
   "execution_count": null,
   "metadata": {
    "ExecuteTime": {
     "end_time": "2020-03-01T12:16:35.321312Z",
     "start_time": "2020-03-01T12:16:32.827291Z"
    }
   },
   "outputs": [],
   "source": [
    "# Kmeans Clustering (sepal_width, sepal_length)\n",
    "X = iris_df[[_____, _____]]\n",
    "\n",
    "kmeans = KMeans(_____, _____, _____)\n",
    "kmeans.fit(X)\n",
    "iris_df = add_cluster_number_to_dataframe(_____, _____)\n",
    "\n",
    "iris_df.head()"
   ]
  },
  {
   "cell_type": "markdown",
   "metadata": {},
   "source": [
    "**Plot the scatterplot**"
   ]
  },
  {
   "cell_type": "code",
   "execution_count": null,
   "metadata": {
    "ExecuteTime": {
     "end_time": "2020-03-01T12:16:35.522839Z",
     "start_time": "2020-03-01T12:16:35.323307Z"
    }
   },
   "outputs": [],
   "source": [
    "# plot scatterplot\n"
   ]
  },
  {
   "cell_type": "markdown",
   "metadata": {},
   "source": [
    "**b. Petal Width `petal_width` and Sepal Length `sepal_length`**"
   ]
  },
  {
   "cell_type": "code",
   "execution_count": null,
   "metadata": {
    "ExecuteTime": {
     "end_time": "2020-03-01T12:16:35.574634Z",
     "start_time": "2020-03-01T12:16:35.524768Z"
    }
   },
   "outputs": [],
   "source": [
    "# Kmeans Clustering (petal_width, sepal_length)\n"
   ]
  },
  {
   "cell_type": "markdown",
   "metadata": {},
   "source": [
    "**Plot the scatterplot**"
   ]
  },
  {
   "cell_type": "code",
   "execution_count": null,
   "metadata": {
    "ExecuteTime": {
     "end_time": "2020-03-01T12:16:35.845114Z",
     "start_time": "2020-03-01T12:16:35.580624Z"
    }
   },
   "outputs": [],
   "source": [
    "# plot scatterplot\n"
   ]
  },
  {
   "cell_type": "markdown",
   "metadata": {
    "ExecuteTime": {
     "end_time": "2020-03-01T11:12:39.901126Z",
     "start_time": "2020-03-01T11:12:39.893126Z"
    }
   },
   "source": [
    "**c. Petal Width `petal_width` and Sepal Width `sepal_width`**"
   ]
  },
  {
   "cell_type": "code",
   "execution_count": null,
   "metadata": {
    "ExecuteTime": {
     "end_time": "2020-03-01T12:16:35.886012Z",
     "start_time": "2020-03-01T12:16:35.847074Z"
    }
   },
   "outputs": [],
   "source": [
    "# Kmeans Clustering (petal_width, sepal_width)\n"
   ]
  },
  {
   "cell_type": "markdown",
   "metadata": {},
   "source": [
    "**Plot the scatterplot**"
   ]
  },
  {
   "cell_type": "code",
   "execution_count": null,
   "metadata": {
    "ExecuteTime": {
     "end_time": "2020-03-01T12:16:36.195330Z",
     "start_time": "2020-03-01T12:16:35.888961Z"
    },
    "scrolled": false
   },
   "outputs": [],
   "source": [
    "# plot scatterplot\n"
   ]
  },
  {
   "cell_type": "markdown",
   "metadata": {
    "ExecuteTime": {
     "end_time": "2020-03-01T11:14:55.069601Z",
     "start_time": "2020-03-01T11:14:55.061601Z"
    }
   },
   "source": [
    "## Standardise Variables\n",
    "Documentation: https://scikit-learn.org/stable/modules/generated/sklearn.preprocessing.StandardScaler.html"
   ]
  },
  {
   "cell_type": "code",
   "execution_count": null,
   "metadata": {},
   "outputs": [],
   "source": [
    "from sklearn.preprocessing import StandardScaler"
   ]
  },
  {
   "cell_type": "code",
   "execution_count": null,
   "metadata": {
    "ExecuteTime": {
     "end_time": "2020-03-01T12:16:36.233230Z",
     "start_time": "2020-03-01T12:16:36.197326Z"
    }
   },
   "outputs": [],
   "source": [
    "scaler = StandardScaler(with_mean=False)\n",
    "transformed = scaler.fit_transform(iris_df[['sepal_length', 'sepal_width', 'petal_length', 'petal_width']])\n",
    "\n",
    "for idx, col in enumerate(iris_df.columns[:-2]):\n",
    "    iris_df[col] = transformed[:,idx]\n",
    "    \n",
    "iris_df.describe()"
   ]
  },
  {
   "cell_type": "markdown",
   "metadata": {},
   "source": [
    "## 4. Perform K-Means Clustering <ins>with</ins> Standardised Variables [8 marks]"
   ]
  },
  {
   "cell_type": "markdown",
   "metadata": {},
   "source": [
    "**a. Sepal Width `sepal_width` and Sepal Length `sepal_length`**"
   ]
  },
  {
   "cell_type": "code",
   "execution_count": null,
   "metadata": {
    "ExecuteTime": {
     "end_time": "2020-03-01T12:16:36.371932Z",
     "start_time": "2020-03-01T12:16:36.237221Z"
    }
   },
   "outputs": [],
   "source": [
    "# Kmeans Clustering (sepal_width, sepal_length)\n"
   ]
  },
  {
   "cell_type": "code",
   "execution_count": null,
   "metadata": {
    "ExecuteTime": {
     "end_time": "2020-03-01T12:16:36.646715Z",
     "start_time": "2020-03-01T12:16:36.373889Z"
    }
   },
   "outputs": [],
   "source": [
    "# plot scatterplot\n"
   ]
  },
  {
   "cell_type": "markdown",
   "metadata": {},
   "source": [
    "**b. Petal Width `petal_width` and Sepal Length `sepal_length`**"
   ]
  },
  {
   "cell_type": "code",
   "execution_count": null,
   "metadata": {
    "ExecuteTime": {
     "end_time": "2020-03-01T12:16:36.958026Z",
     "start_time": "2020-03-01T12:16:36.648710Z"
    }
   },
   "outputs": [],
   "source": [
    "# Kmeans Clustering (petal_width, sepal_length)\n"
   ]
  },
  {
   "cell_type": "code",
   "execution_count": null,
   "metadata": {
    "ExecuteTime": {
     "end_time": "2020-03-01T12:16:37.208293Z",
     "start_time": "2020-03-01T12:16:36.960021Z"
    }
   },
   "outputs": [],
   "source": [
    "# plot scatterplot\n"
   ]
  },
  {
   "cell_type": "markdown",
   "metadata": {
    "ExecuteTime": {
     "end_time": "2020-03-01T11:12:39.901126Z",
     "start_time": "2020-03-01T11:12:39.893126Z"
    }
   },
   "source": [
    "**c. Petal Width `petal_width` and Sepal Width `sepal_width`**"
   ]
  },
  {
   "cell_type": "code",
   "execution_count": null,
   "metadata": {
    "ExecuteTime": {
     "end_time": "2020-03-01T12:16:37.257162Z",
     "start_time": "2020-03-01T12:16:37.210288Z"
    }
   },
   "outputs": [],
   "source": [
    "# Kmeans Clustering (petal_width, sepal_width)\n"
   ]
  },
  {
   "cell_type": "code",
   "execution_count": null,
   "metadata": {
    "ExecuteTime": {
     "end_time": "2020-03-01T12:16:37.523551Z",
     "start_time": "2020-03-01T12:16:37.261153Z"
    },
    "scrolled": false
   },
   "outputs": [],
   "source": [
    "# plot scatterplot\n"
   ]
  },
  {
   "cell_type": "markdown",
   "metadata": {},
   "source": [
    "Comment on why results of this clustering analysis (with standardisation) are different from those obtained in the previous clustering analysis (without standardisation)."
   ]
  },
  {
   "cell_type": "markdown",
   "metadata": {},
   "source": [
    "`type your answer here`"
   ]
  },
  {
   "cell_type": "markdown",
   "metadata": {},
   "source": [
    "## 5. Perform K-Means Clustering with Different Number of Clusters [6 marks]\n",
    "\n",
    "For this dataset, we happened to know a priori the right number of clusters. In a real world scenario, we will not know the number of clusters. Additionally, the clusters may not correspond the “ideal” cluster that we want. Using Petal Width `petal_width` and Sepal Length `sepal_length` as the variables, perform cluster analysis with number of clusters `n_clusters` = `2`, `4`, and `6`. \n",
    "\n",
    "**Report the number of items in each segment for all 3 cluster analysis, and provide the appropriate scatter plots.**"
   ]
  },
  {
   "cell_type": "markdown",
   "metadata": {},
   "source": [
    "`n_clusters` = `2`"
   ]
  },
  {
   "cell_type": "code",
   "execution_count": null,
   "metadata": {
    "ExecuteTime": {
     "end_time": "2020-03-01T12:16:37.572422Z",
     "start_time": "2020-03-01T12:16:37.526544Z"
    }
   },
   "outputs": [],
   "source": [
    "# Kmeans Clustering (n_clusters=2) \n"
   ]
  },
  {
   "cell_type": "code",
   "execution_count": 1,
   "metadata": {
    "ExecuteTime": {
     "end_time": "2020-03-01T12:16:37.815374Z",
     "start_time": "2020-03-01T12:16:37.574416Z"
    }
   },
   "outputs": [],
   "source": [
    "# plot scatterplot\n"
   ]
  },
  {
   "cell_type": "markdown",
   "metadata": {},
   "source": [
    "`n_clusters` = `4`"
   ]
  },
  {
   "cell_type": "code",
   "execution_count": null,
   "metadata": {
    "ExecuteTime": {
     "end_time": "2020-03-01T12:16:37.867198Z",
     "start_time": "2020-03-01T12:16:37.819328Z"
    }
   },
   "outputs": [],
   "source": [
    "# Kmeans Clustering (n_clusters=4) \n"
   ]
  },
  {
   "cell_type": "code",
   "execution_count": 2,
   "metadata": {
    "ExecuteTime": {
     "end_time": "2020-03-01T12:16:38.150094Z",
     "start_time": "2020-03-01T12:16:37.869192Z"
    }
   },
   "outputs": [],
   "source": [
    "# plot scatterplot\n"
   ]
  },
  {
   "cell_type": "markdown",
   "metadata": {},
   "source": [
    "`n_clusters` = `6`"
   ]
  },
  {
   "cell_type": "code",
   "execution_count": null,
   "metadata": {
    "ExecuteTime": {
     "end_time": "2020-03-01T12:16:38.200274Z",
     "start_time": "2020-03-01T12:16:38.152098Z"
    }
   },
   "outputs": [],
   "source": [
    "# Kmeans Clustering (n_clusters=6) \n"
   ]
  },
  {
   "cell_type": "code",
   "execution_count": null,
   "metadata": {
    "ExecuteTime": {
     "end_time": "2020-03-01T12:16:38.561098Z",
     "start_time": "2020-03-01T12:16:38.202270Z"
    }
   },
   "outputs": [],
   "source": [
    "# plot scatterplot\n"
   ]
  }
 ],
 "metadata": {
  "kernelspec": {
   "display_name": "Python 3 (ipykernel)",
   "language": "python",
   "name": "python3"
  },
  "language_info": {
   "codemirror_mode": {
    "name": "ipython",
    "version": 3
   },
   "file_extension": ".py",
   "mimetype": "text/x-python",
   "name": "python",
   "nbconvert_exporter": "python",
   "pygments_lexer": "ipython3",
   "version": "3.9.5"
  },
  "toc": {
   "base_numbering": 1,
   "nav_menu": {},
   "number_sections": true,
   "sideBar": true,
   "skip_h1_title": false,
   "title_cell": "Table of Contents",
   "title_sidebar": "Contents",
   "toc_cell": false,
   "toc_position": {},
   "toc_section_display": true,
   "toc_window_display": false
  }
 },
 "nbformat": 4,
 "nbformat_minor": 4
}
