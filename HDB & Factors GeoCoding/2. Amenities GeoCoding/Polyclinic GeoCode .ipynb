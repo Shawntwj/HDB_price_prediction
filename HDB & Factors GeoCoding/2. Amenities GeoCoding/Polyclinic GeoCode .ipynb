{
 "cells": [
  {
   "cell_type": "code",
   "execution_count": 2,
   "id": "63dee63a",
   "metadata": {},
   "outputs": [],
   "source": [
    "import requests as requests\n",
    "import pandas as pd\n",
    "import json\n",
    "import folium\n",
    "from folium.plugins import MarkerCluster"
   ]
  },
  {
   "cell_type": "code",
   "execution_count": 3,
   "id": "a795cf91",
   "metadata": {},
   "outputs": [],
   "source": [
    "df = pd.read_excel('Polyclinic.xlsx')"
   ]
  },
  {
   "cell_type": "code",
   "execution_count": 4,
   "id": "6987039c",
   "metadata": {},
   "outputs": [
    {
     "data": {
      "text/html": [
       "<div>\n",
       "<style scoped>\n",
       "    .dataframe tbody tr th:only-of-type {\n",
       "        vertical-align: middle;\n",
       "    }\n",
       "\n",
       "    .dataframe tbody tr th {\n",
       "        vertical-align: top;\n",
       "    }\n",
       "\n",
       "    .dataframe thead th {\n",
       "        text-align: right;\n",
       "    }\n",
       "</style>\n",
       "<table border=\"1\" class=\"dataframe\">\n",
       "  <thead>\n",
       "    <tr style=\"text-align: right;\">\n",
       "      <th></th>\n",
       "      <th>Name/Location</th>\n",
       "      <th>Address</th>\n",
       "    </tr>\n",
       "  </thead>\n",
       "  <tbody>\n",
       "    <tr>\n",
       "      <th>0</th>\n",
       "      <td>Ang Mo Kio Polyclinic</td>\n",
       "      <td>Block 723 Ang Mo Kio Avenue 8 #01-4136</td>\n",
       "    </tr>\n",
       "    <tr>\n",
       "      <th>1</th>\n",
       "      <td>Bedok Polyclinic</td>\n",
       "      <td>Block 212 Bedok North Street 1 #03-147</td>\n",
       "    </tr>\n",
       "    <tr>\n",
       "      <th>2</th>\n",
       "      <td>Bukit Batok Polyclinic</td>\n",
       "      <td>50 Bukit Batok West Avenue 3</td>\n",
       "    </tr>\n",
       "    <tr>\n",
       "      <th>3</th>\n",
       "      <td>Bukit Merah Polyclinic</td>\n",
       "      <td>Block 163 Bukit Merah Central #04-3565</td>\n",
       "    </tr>\n",
       "    <tr>\n",
       "      <th>4</th>\n",
       "      <td>Choa Chu Kang Polyclinic</td>\n",
       "      <td>2 Teck Whye Crescent</td>\n",
       "    </tr>\n",
       "  </tbody>\n",
       "</table>\n",
       "</div>"
      ],
      "text/plain": [
       "              Name/Location                                 Address\n",
       "0     Ang Mo Kio Polyclinic  Block 723 Ang Mo Kio Avenue 8 #01-4136\n",
       "1          Bedok Polyclinic  Block 212 Bedok North Street 1 #03-147\n",
       "2    Bukit Batok Polyclinic            50 Bukit Batok West Avenue 3\n",
       "3    Bukit Merah Polyclinic  Block 163 Bukit Merah Central #04-3565\n",
       "4  Choa Chu Kang Polyclinic                    2 Teck Whye Crescent"
      ]
     },
     "execution_count": 4,
     "metadata": {},
     "output_type": "execute_result"
    }
   ],
   "source": [
    "df.head()"
   ]
  },
  {
   "cell_type": "code",
   "execution_count": 5,
   "id": "ddf92beb",
   "metadata": {},
   "outputs": [
    {
     "name": "stdout",
     "output_type": "stream",
     "text": [
      "<class 'pandas.core.frame.DataFrame'>\n",
      "RangeIndex: 18 entries, 0 to 17\n",
      "Data columns (total 2 columns):\n",
      " #   Column         Non-Null Count  Dtype \n",
      "---  ------         --------------  ----- \n",
      " 0   Name/Location  18 non-null     object\n",
      " 1   Address        18 non-null     object\n",
      "dtypes: object(2)\n",
      "memory usage: 416.0+ bytes\n"
     ]
    }
   ],
   "source": [
    "df.info()"
   ]
  },
  {
   "cell_type": "code",
   "execution_count": 6,
   "id": "8ebd18f3",
   "metadata": {},
   "outputs": [],
   "source": [
    "df[\"Address\"] =  \"Singapore \" + df[\"Address\"]"
   ]
  },
  {
   "cell_type": "code",
   "execution_count": 7,
   "id": "3159fe57",
   "metadata": {},
   "outputs": [
    {
     "data": {
      "text/html": [
       "<div>\n",
       "<style scoped>\n",
       "    .dataframe tbody tr th:only-of-type {\n",
       "        vertical-align: middle;\n",
       "    }\n",
       "\n",
       "    .dataframe tbody tr th {\n",
       "        vertical-align: top;\n",
       "    }\n",
       "\n",
       "    .dataframe thead th {\n",
       "        text-align: right;\n",
       "    }\n",
       "</style>\n",
       "<table border=\"1\" class=\"dataframe\">\n",
       "  <thead>\n",
       "    <tr style=\"text-align: right;\">\n",
       "      <th></th>\n",
       "      <th>Name/Location</th>\n",
       "      <th>Address</th>\n",
       "    </tr>\n",
       "  </thead>\n",
       "  <tbody>\n",
       "    <tr>\n",
       "      <th>0</th>\n",
       "      <td>Ang Mo Kio Polyclinic</td>\n",
       "      <td>Singapore Block 723 Ang Mo Kio Avenue 8 #01-4136</td>\n",
       "    </tr>\n",
       "    <tr>\n",
       "      <th>1</th>\n",
       "      <td>Bedok Polyclinic</td>\n",
       "      <td>Singapore Block 212 Bedok North Street 1 #03-147</td>\n",
       "    </tr>\n",
       "    <tr>\n",
       "      <th>2</th>\n",
       "      <td>Bukit Batok Polyclinic</td>\n",
       "      <td>Singapore 50 Bukit Batok West Avenue 3</td>\n",
       "    </tr>\n",
       "    <tr>\n",
       "      <th>3</th>\n",
       "      <td>Bukit Merah Polyclinic</td>\n",
       "      <td>Singapore Block 163 Bukit Merah Central #04-3565</td>\n",
       "    </tr>\n",
       "    <tr>\n",
       "      <th>4</th>\n",
       "      <td>Choa Chu Kang Polyclinic</td>\n",
       "      <td>Singapore 2 Teck Whye Crescent</td>\n",
       "    </tr>\n",
       "  </tbody>\n",
       "</table>\n",
       "</div>"
      ],
      "text/plain": [
       "              Name/Location                                           Address\n",
       "0     Ang Mo Kio Polyclinic  Singapore Block 723 Ang Mo Kio Avenue 8 #01-4136\n",
       "1          Bedok Polyclinic  Singapore Block 212 Bedok North Street 1 #03-147\n",
       "2    Bukit Batok Polyclinic            Singapore 50 Bukit Batok West Avenue 3\n",
       "3    Bukit Merah Polyclinic  Singapore Block 163 Bukit Merah Central #04-3565\n",
       "4  Choa Chu Kang Polyclinic                    Singapore 2 Teck Whye Crescent"
      ]
     },
     "execution_count": 7,
     "metadata": {},
     "output_type": "execute_result"
    }
   ],
   "source": [
    "df.head()"
   ]
  },
  {
   "cell_type": "code",
   "execution_count": 8,
   "id": "9ae6e6ce",
   "metadata": {},
   "outputs": [
    {
     "name": "stdout",
     "output_type": "stream",
     "text": [
      "<class 'pandas.core.frame.DataFrame'>\n",
      "RangeIndex: 18 entries, 0 to 17\n",
      "Data columns (total 2 columns):\n",
      " #   Column         Non-Null Count  Dtype \n",
      "---  ------         --------------  ----- \n",
      " 0   Name/Location  18 non-null     object\n",
      " 1   Address        18 non-null     object\n",
      "dtypes: object(2)\n",
      "memory usage: 416.0+ bytes\n"
     ]
    }
   ],
   "source": [
    "df.info()"
   ]
  },
  {
   "cell_type": "code",
   "execution_count": 9,
   "id": "2f542694",
   "metadata": {},
   "outputs": [],
   "source": [
    "geo_s ='https://maps.googleapis.com/maps/api/geocode/json'\n",
    "df[\"lat\"] = \"\"\n",
    "df[\"lng\"] = \"\"\n",
    "\n",
    "\n",
    "for i in range(len(df)):\n",
    "    param = {'address': df[\"Address\"][i], 'key': ''}\n",
    "\n",
    "    response = requests.get(geo_s, params=param)\n",
    "\n",
    "    json_dict = response.json()\n",
    "\n",
    "    df[\"lat\"][i] = json_dict['results'][0]['geometry']['location']['lat']\n",
    "    df[\"lng\"][i] = json_dict['results'][0]['geometry']['location']['lng']"
   ]
  },
  {
   "cell_type": "code",
   "execution_count": 10,
   "id": "35dc53c8",
   "metadata": {},
   "outputs": [
    {
     "data": {
      "text/html": [
       "<div>\n",
       "<style scoped>\n",
       "    .dataframe tbody tr th:only-of-type {\n",
       "        vertical-align: middle;\n",
       "    }\n",
       "\n",
       "    .dataframe tbody tr th {\n",
       "        vertical-align: top;\n",
       "    }\n",
       "\n",
       "    .dataframe thead th {\n",
       "        text-align: right;\n",
       "    }\n",
       "</style>\n",
       "<table border=\"1\" class=\"dataframe\">\n",
       "  <thead>\n",
       "    <tr style=\"text-align: right;\">\n",
       "      <th></th>\n",
       "      <th>Name/Location</th>\n",
       "      <th>Address</th>\n",
       "      <th>lat</th>\n",
       "      <th>lng</th>\n",
       "    </tr>\n",
       "  </thead>\n",
       "  <tbody>\n",
       "    <tr>\n",
       "      <th>0</th>\n",
       "      <td>Ang Mo Kio Polyclinic</td>\n",
       "      <td>Singapore Block 723 Ang Mo Kio Avenue 8 #01-4136</td>\n",
       "      <td>1.372437</td>\n",
       "      <td>103.847224</td>\n",
       "    </tr>\n",
       "    <tr>\n",
       "      <th>1</th>\n",
       "      <td>Bedok Polyclinic</td>\n",
       "      <td>Singapore Block 212 Bedok North Street 1 #03-147</td>\n",
       "      <td>1.326074</td>\n",
       "      <td>103.931431</td>\n",
       "    </tr>\n",
       "    <tr>\n",
       "      <th>2</th>\n",
       "      <td>Bukit Batok Polyclinic</td>\n",
       "      <td>Singapore 50 Bukit Batok West Avenue 3</td>\n",
       "      <td>1.352064</td>\n",
       "      <td>103.747834</td>\n",
       "    </tr>\n",
       "    <tr>\n",
       "      <th>3</th>\n",
       "      <td>Bukit Merah Polyclinic</td>\n",
       "      <td>Singapore Block 163 Bukit Merah Central #04-3565</td>\n",
       "      <td>1.283754</td>\n",
       "      <td>103.817007</td>\n",
       "    </tr>\n",
       "    <tr>\n",
       "      <th>4</th>\n",
       "      <td>Choa Chu Kang Polyclinic</td>\n",
       "      <td>Singapore 2 Teck Whye Crescent</td>\n",
       "      <td>1.382388</td>\n",
       "      <td>103.75073</td>\n",
       "    </tr>\n",
       "  </tbody>\n",
       "</table>\n",
       "</div>"
      ],
      "text/plain": [
       "              Name/Location                                           Address  \\\n",
       "0     Ang Mo Kio Polyclinic  Singapore Block 723 Ang Mo Kio Avenue 8 #01-4136   \n",
       "1          Bedok Polyclinic  Singapore Block 212 Bedok North Street 1 #03-147   \n",
       "2    Bukit Batok Polyclinic            Singapore 50 Bukit Batok West Avenue 3   \n",
       "3    Bukit Merah Polyclinic  Singapore Block 163 Bukit Merah Central #04-3565   \n",
       "4  Choa Chu Kang Polyclinic                    Singapore 2 Teck Whye Crescent   \n",
       "\n",
       "        lat         lng  \n",
       "0  1.372437  103.847224  \n",
       "1  1.326074  103.931431  \n",
       "2  1.352064  103.747834  \n",
       "3  1.283754  103.817007  \n",
       "4  1.382388   103.75073  "
      ]
     },
     "execution_count": 10,
     "metadata": {},
     "output_type": "execute_result"
    }
   ],
   "source": [
    "df.head()"
   ]
  },
  {
   "cell_type": "code",
   "execution_count": 11,
   "id": "a262c0cf",
   "metadata": {},
   "outputs": [],
   "source": [
    "df.to_csv(\"Preprocessed Polyclinic.csv\")"
   ]
  }
 ],
 "metadata": {
  "kernelspec": {
   "display_name": "Python 3 (ipykernel)",
   "language": "python",
   "name": "python3"
  },
  "language_info": {
   "codemirror_mode": {
    "name": "ipython",
    "version": 3
   },
   "file_extension": ".py",
   "mimetype": "text/x-python",
   "name": "python",
   "nbconvert_exporter": "python",
   "pygments_lexer": "ipython3",
   "version": "3.8.8"
  }
 },
 "nbformat": 4,
 "nbformat_minor": 5
}
