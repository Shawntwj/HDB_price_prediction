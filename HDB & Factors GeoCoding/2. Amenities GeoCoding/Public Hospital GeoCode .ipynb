{
 "cells": [
  {
   "cell_type": "code",
   "execution_count": 1,
   "id": "63dee63a",
   "metadata": {},
   "outputs": [],
   "source": [
    "import requests as requests\n",
    "import pandas as pd\n",
    "import json\n",
    "import folium\n",
    "from folium.plugins import MarkerCluster"
   ]
  },
  {
   "cell_type": "code",
   "execution_count": 2,
   "id": "a795cf91",
   "metadata": {},
   "outputs": [],
   "source": [
    "df = pd.read_excel('Public Hospital.xlsx')"
   ]
  },
  {
   "cell_type": "code",
   "execution_count": 3,
   "id": "6987039c",
   "metadata": {},
   "outputs": [
    {
     "data": {
      "text/html": [
       "<div>\n",
       "<style scoped>\n",
       "    .dataframe tbody tr th:only-of-type {\n",
       "        vertical-align: middle;\n",
       "    }\n",
       "\n",
       "    .dataframe tbody tr th {\n",
       "        vertical-align: top;\n",
       "    }\n",
       "\n",
       "    .dataframe thead th {\n",
       "        text-align: right;\n",
       "    }\n",
       "</style>\n",
       "<table border=\"1\" class=\"dataframe\">\n",
       "  <thead>\n",
       "    <tr style=\"text-align: right;\">\n",
       "      <th></th>\n",
       "      <th>Name</th>\n",
       "      <th>Address</th>\n",
       "    </tr>\n",
       "  </thead>\n",
       "  <tbody>\n",
       "    <tr>\n",
       "      <th>0</th>\n",
       "      <td>ALEXANDRA HOSPITAL</td>\n",
       "      <td>378 Alexandra Road Singapore 159964</td>\n",
       "    </tr>\n",
       "    <tr>\n",
       "      <th>1</th>\n",
       "      <td>CHANGI GENERAL HOSPITAL</td>\n",
       "      <td>2 Simei Street 3 Singapore 529889</td>\n",
       "    </tr>\n",
       "    <tr>\n",
       "      <th>2</th>\n",
       "      <td>KHOO TECK PUAT HOSPITAL</td>\n",
       "      <td>90 Yishun Central Singapore 768828</td>\n",
       "    </tr>\n",
       "    <tr>\n",
       "      <th>3</th>\n",
       "      <td>KK WOMEN'S AND CHILDREN'S HOSPITAL</td>\n",
       "      <td>100 Bukit Timah Road Singapore 229899</td>\n",
       "    </tr>\n",
       "    <tr>\n",
       "      <th>4</th>\n",
       "      <td>NATIONAL CANCER CENTRE</td>\n",
       "      <td>11 Hospital Drive Singapore 169610</td>\n",
       "    </tr>\n",
       "  </tbody>\n",
       "</table>\n",
       "</div>"
      ],
      "text/plain": [
       "                                 Name                                Address\n",
       "0                  ALEXANDRA HOSPITAL    378 Alexandra Road Singapore 159964\n",
       "1             CHANGI GENERAL HOSPITAL      2 Simei Street 3 Singapore 529889\n",
       "2             KHOO TECK PUAT HOSPITAL     90 Yishun Central Singapore 768828\n",
       "3  KK WOMEN'S AND CHILDREN'S HOSPITAL  100 Bukit Timah Road Singapore 229899\n",
       "4              NATIONAL CANCER CENTRE     11 Hospital Drive Singapore 169610"
      ]
     },
     "execution_count": 3,
     "metadata": {},
     "output_type": "execute_result"
    }
   ],
   "source": [
    "df.head()"
   ]
  },
  {
   "cell_type": "code",
   "execution_count": 4,
   "id": "ddf92beb",
   "metadata": {},
   "outputs": [
    {
     "name": "stdout",
     "output_type": "stream",
     "text": [
      "<class 'pandas.core.frame.DataFrame'>\n",
      "RangeIndex: 13 entries, 0 to 12\n",
      "Data columns (total 2 columns):\n",
      " #   Column   Non-Null Count  Dtype \n",
      "---  ------   --------------  ----- \n",
      " 0   Name     13 non-null     object\n",
      " 1   Address  13 non-null     object\n",
      "dtypes: object(2)\n",
      "memory usage: 336.0+ bytes\n"
     ]
    }
   ],
   "source": [
    "df.info()"
   ]
  },
  {
   "cell_type": "code",
   "execution_count": 5,
   "id": "3159fe57",
   "metadata": {},
   "outputs": [
    {
     "data": {
      "text/html": [
       "<div>\n",
       "<style scoped>\n",
       "    .dataframe tbody tr th:only-of-type {\n",
       "        vertical-align: middle;\n",
       "    }\n",
       "\n",
       "    .dataframe tbody tr th {\n",
       "        vertical-align: top;\n",
       "    }\n",
       "\n",
       "    .dataframe thead th {\n",
       "        text-align: right;\n",
       "    }\n",
       "</style>\n",
       "<table border=\"1\" class=\"dataframe\">\n",
       "  <thead>\n",
       "    <tr style=\"text-align: right;\">\n",
       "      <th></th>\n",
       "      <th>Name</th>\n",
       "      <th>Address</th>\n",
       "    </tr>\n",
       "  </thead>\n",
       "  <tbody>\n",
       "    <tr>\n",
       "      <th>0</th>\n",
       "      <td>ALEXANDRA HOSPITAL</td>\n",
       "      <td>378 Alexandra Road Singapore 159964</td>\n",
       "    </tr>\n",
       "    <tr>\n",
       "      <th>1</th>\n",
       "      <td>CHANGI GENERAL HOSPITAL</td>\n",
       "      <td>2 Simei Street 3 Singapore 529889</td>\n",
       "    </tr>\n",
       "    <tr>\n",
       "      <th>2</th>\n",
       "      <td>KHOO TECK PUAT HOSPITAL</td>\n",
       "      <td>90 Yishun Central Singapore 768828</td>\n",
       "    </tr>\n",
       "    <tr>\n",
       "      <th>3</th>\n",
       "      <td>KK WOMEN'S AND CHILDREN'S HOSPITAL</td>\n",
       "      <td>100 Bukit Timah Road Singapore 229899</td>\n",
       "    </tr>\n",
       "    <tr>\n",
       "      <th>4</th>\n",
       "      <td>NATIONAL CANCER CENTRE</td>\n",
       "      <td>11 Hospital Drive Singapore 169610</td>\n",
       "    </tr>\n",
       "  </tbody>\n",
       "</table>\n",
       "</div>"
      ],
      "text/plain": [
       "                                 Name                                Address\n",
       "0                  ALEXANDRA HOSPITAL    378 Alexandra Road Singapore 159964\n",
       "1             CHANGI GENERAL HOSPITAL      2 Simei Street 3 Singapore 529889\n",
       "2             KHOO TECK PUAT HOSPITAL     90 Yishun Central Singapore 768828\n",
       "3  KK WOMEN'S AND CHILDREN'S HOSPITAL  100 Bukit Timah Road Singapore 229899\n",
       "4              NATIONAL CANCER CENTRE     11 Hospital Drive Singapore 169610"
      ]
     },
     "execution_count": 5,
     "metadata": {},
     "output_type": "execute_result"
    }
   ],
   "source": [
    "df.head()"
   ]
  },
  {
   "cell_type": "code",
   "execution_count": 6,
   "id": "9ae6e6ce",
   "metadata": {},
   "outputs": [
    {
     "name": "stdout",
     "output_type": "stream",
     "text": [
      "<class 'pandas.core.frame.DataFrame'>\n",
      "RangeIndex: 13 entries, 0 to 12\n",
      "Data columns (total 2 columns):\n",
      " #   Column   Non-Null Count  Dtype \n",
      "---  ------   --------------  ----- \n",
      " 0   Name     13 non-null     object\n",
      " 1   Address  13 non-null     object\n",
      "dtypes: object(2)\n",
      "memory usage: 336.0+ bytes\n"
     ]
    }
   ],
   "source": [
    "df.info()"
   ]
  },
  {
   "cell_type": "code",
   "execution_count": 7,
   "id": "2f542694",
   "metadata": {},
   "outputs": [],
   "source": [
    "geo_s ='https://maps.googleapis.com/maps/api/geocode/json'\n",
    "df[\"lat\"] = \"\"\n",
    "df[\"lng\"] = \"\"\n",
    "\n",
    "\n",
    "for i in range(len(df)):\n",
    "    param = {'address': df[\"Address\"][i], 'key': ''}\n",
    "\n",
    "    response = requests.get(geo_s, params=param)\n",
    "\n",
    "    json_dict = response.json()\n",
    "\n",
    "    df[\"lat\"][i] = json_dict['results'][0]['geometry']['location']['lat']\n",
    "    df[\"lng\"][i] = json_dict['results'][0]['geometry']['location']['lng']"
   ]
  },
  {
   "cell_type": "code",
   "execution_count": 8,
   "id": "35dc53c8",
   "metadata": {},
   "outputs": [
    {
     "data": {
      "text/html": [
       "<div>\n",
       "<style scoped>\n",
       "    .dataframe tbody tr th:only-of-type {\n",
       "        vertical-align: middle;\n",
       "    }\n",
       "\n",
       "    .dataframe tbody tr th {\n",
       "        vertical-align: top;\n",
       "    }\n",
       "\n",
       "    .dataframe thead th {\n",
       "        text-align: right;\n",
       "    }\n",
       "</style>\n",
       "<table border=\"1\" class=\"dataframe\">\n",
       "  <thead>\n",
       "    <tr style=\"text-align: right;\">\n",
       "      <th></th>\n",
       "      <th>Name</th>\n",
       "      <th>Address</th>\n",
       "      <th>lat</th>\n",
       "      <th>lng</th>\n",
       "    </tr>\n",
       "  </thead>\n",
       "  <tbody>\n",
       "    <tr>\n",
       "      <th>0</th>\n",
       "      <td>ALEXANDRA HOSPITAL</td>\n",
       "      <td>378 Alexandra Road Singapore 159964</td>\n",
       "      <td>1.287678</td>\n",
       "      <td>103.801476</td>\n",
       "    </tr>\n",
       "    <tr>\n",
       "      <th>1</th>\n",
       "      <td>CHANGI GENERAL HOSPITAL</td>\n",
       "      <td>2 Simei Street 3 Singapore 529889</td>\n",
       "      <td>1.340624</td>\n",
       "      <td>103.949471</td>\n",
       "    </tr>\n",
       "    <tr>\n",
       "      <th>2</th>\n",
       "      <td>KHOO TECK PUAT HOSPITAL</td>\n",
       "      <td>90 Yishun Central Singapore 768828</td>\n",
       "      <td>1.424297</td>\n",
       "      <td>103.838591</td>\n",
       "    </tr>\n",
       "    <tr>\n",
       "      <th>3</th>\n",
       "      <td>KK WOMEN'S AND CHILDREN'S HOSPITAL</td>\n",
       "      <td>100 Bukit Timah Road Singapore 229899</td>\n",
       "      <td>1.310663</td>\n",
       "      <td>103.846805</td>\n",
       "    </tr>\n",
       "    <tr>\n",
       "      <th>4</th>\n",
       "      <td>NATIONAL CANCER CENTRE</td>\n",
       "      <td>11 Hospital Drive Singapore 169610</td>\n",
       "      <td>1.279426</td>\n",
       "      <td>103.836635</td>\n",
       "    </tr>\n",
       "  </tbody>\n",
       "</table>\n",
       "</div>"
      ],
      "text/plain": [
       "                                 Name                                Address  \\\n",
       "0                  ALEXANDRA HOSPITAL    378 Alexandra Road Singapore 159964   \n",
       "1             CHANGI GENERAL HOSPITAL      2 Simei Street 3 Singapore 529889   \n",
       "2             KHOO TECK PUAT HOSPITAL     90 Yishun Central Singapore 768828   \n",
       "3  KK WOMEN'S AND CHILDREN'S HOSPITAL  100 Bukit Timah Road Singapore 229899   \n",
       "4              NATIONAL CANCER CENTRE     11 Hospital Drive Singapore 169610   \n",
       "\n",
       "        lat         lng  \n",
       "0  1.287678  103.801476  \n",
       "1  1.340624  103.949471  \n",
       "2  1.424297  103.838591  \n",
       "3  1.310663  103.846805  \n",
       "4  1.279426  103.836635  "
      ]
     },
     "execution_count": 8,
     "metadata": {},
     "output_type": "execute_result"
    }
   ],
   "source": [
    "df.head()"
   ]
  },
  {
   "cell_type": "code",
   "execution_count": 9,
   "id": "a262c0cf",
   "metadata": {},
   "outputs": [],
   "source": [
    "df.to_csv(\"Preprocessed Hospital.csv\")"
   ]
  }
 ],
 "metadata": {
  "kernelspec": {
   "display_name": "Python 3 (ipykernel)",
   "language": "python",
   "name": "python3"
  },
  "language_info": {
   "codemirror_mode": {
    "name": "ipython",
    "version": 3
   },
   "file_extension": ".py",
   "mimetype": "text/x-python",
   "name": "python",
   "nbconvert_exporter": "python",
   "pygments_lexer": "ipython3",
   "version": "3.8.8"
  }
 },
 "nbformat": 4,
 "nbformat_minor": 5
}
